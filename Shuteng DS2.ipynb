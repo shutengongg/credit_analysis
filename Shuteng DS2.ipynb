{
 "cells": [
  {
   "cell_type": "code",
   "execution_count": 10,
   "id": "6b7d3b2b-ae85-49c6-b808-0b65b7eec819",
   "metadata": {},
   "outputs": [],
   "source": [
    "import pandas as pd\n",
    "import numpy as np\n",
    "import matplotlib.pyplot as plt"
   ]
  },
  {
   "cell_type": "code",
   "execution_count": 11,
   "id": "39a07845-d3b9-41ba-812c-9c1161911fd2",
   "metadata": {},
   "outputs": [],
   "source": [
    "df1 = pd.read_csv('Downloads/archive (2)/application_record.csv')"
   ]
  },
  {
   "cell_type": "code",
   "execution_count": 12,
   "id": "97f3d2ce-3689-4a1b-8b3d-86681dd5eff9",
   "metadata": {},
   "outputs": [],
   "source": [
    "df2 = pd.read_csv('Downloads/archive (2)/credit_record.csv')"
   ]
  },
  {
   "cell_type": "markdown",
   "id": "1122f0cf-dee7-4473-98a3-abac80c11a05",
   "metadata": {},
   "source": [
    "# Data Cleaning"
   ]
  },
  {
   "cell_type": "code",
   "execution_count": 14,
   "id": "78659472-47ce-4961-8f04-fb22f6f5f6d2",
   "metadata": {},
   "outputs": [
    {
     "data": {
      "text/plain": [
       "438510"
      ]
     },
     "execution_count": 14,
     "metadata": {},
     "output_type": "execute_result"
    }
   ],
   "source": [
    "len(df1['ID'].unique())"
   ]
  },
  {
   "cell_type": "code",
   "execution_count": 15,
   "id": "c7b39e4b-76c2-43f5-a34d-e90f4ab2cc5a",
   "metadata": {},
   "outputs": [
    {
     "data": {
      "text/plain": [
       "45985"
      ]
     },
     "execution_count": 15,
     "metadata": {},
     "output_type": "execute_result"
    }
   ],
   "source": [
    "len(df2['ID'].unique())"
   ]
  },
  {
   "cell_type": "code",
   "execution_count": 16,
   "id": "f62961fa-2938-4077-9c74-732d63307410",
   "metadata": {},
   "outputs": [
    {
     "data": {
      "text/plain": [
       "STATUS\n",
       "C    442031\n",
       "0    383120\n",
       "X    209230\n",
       "1     11090\n",
       "5      1693\n",
       "2       868\n",
       "3       320\n",
       "4       223\n",
       "Name: count, dtype: int64"
      ]
     },
     "execution_count": 16,
     "metadata": {},
     "output_type": "execute_result"
    }
   ],
   "source": [
    "df2['STATUS'].value_counts()"
   ]
  },
  {
   "cell_type": "code",
   "execution_count": 17,
   "id": "833de671-c5ad-452e-9dc1-263ef4609137",
   "metadata": {},
   "outputs": [
    {
     "data": {
      "text/plain": [
       "36457"
      ]
     },
     "execution_count": 17,
     "metadata": {},
     "output_type": "execute_result"
    }
   ],
   "source": [
    "len(set(df2['ID']).intersection(set(df1['ID']))) # how many people with credit history?"
   ]
  },
  {
   "cell_type": "markdown",
   "id": "a364b2de-3a73-44cb-b4b7-1ce6d01e375d",
   "metadata": {},
   "source": [
    "Convert days_birth and days_employed into age and years employed"
   ]
  },
  {
   "cell_type": "code",
   "execution_count": 19,
   "id": "ceaf1d61-5b03-4145-b1a9-3fa6b21adacf",
   "metadata": {},
   "outputs": [
    {
     "name": "stdout",
     "output_type": "stream",
     "text": [
      "   DAYS_BIRTH  DAYS_EMPLOYED  age  years_employed\n",
      "0      -12005          -4542   33              12\n",
      "1      -12005          -4542   33              12\n",
      "2      -21474          -1134   59               3\n",
      "3      -19110          -3051   52               8\n",
      "4      -19110          -3051   52               8\n"
     ]
    }
   ],
   "source": [
    "# If DAYS_EMPLOYED is positive, set it to 0\n",
    "df1['DAYS_EMPLOYED'] = np.where(df1['DAYS_EMPLOYED'] > 0, 0, df1['DAYS_EMPLOYED'])\n",
    "\n",
    "# Function to convert days to years\n",
    "def days_to_years(days):\n",
    "    return (-days / 365).round(0).astype(int)  # Ensure proper integer conversion\n",
    "\n",
    "# Apply function to both columns\n",
    "df1['age'] = days_to_years(df1['DAYS_BIRTH'])\n",
    "df1['years_employed'] = days_to_years(df1['DAYS_EMPLOYED'])\n",
    "\n",
    "# Verify that transformation worked\n",
    "print(df1[['DAYS_BIRTH', 'DAYS_EMPLOYED', 'age', 'years_employed']].head())"
   ]
  },
  {
   "cell_type": "code",
   "execution_count": 20,
   "id": "40c0abfe-f7a8-4ab2-9110-e5a436b26899",
   "metadata": {},
   "outputs": [],
   "source": [
    "df = pd.merge(df1, df2, on='ID', how='inner') # merge 2 data sets"
   ]
  },
  {
   "cell_type": "code",
   "execution_count": 21,
   "id": "d12460af-5f27-48e2-ac37-00bc336219b6",
   "metadata": {},
   "outputs": [
    {
     "data": {
      "text/plain": [
       "ID                          0\n",
       "CODE_GENDER                 0\n",
       "FLAG_OWN_CAR                0\n",
       "FLAG_OWN_REALTY             0\n",
       "CNT_CHILDREN                0\n",
       "AMT_INCOME_TOTAL            0\n",
       "NAME_INCOME_TYPE            0\n",
       "NAME_EDUCATION_TYPE         0\n",
       "NAME_FAMILY_STATUS          0\n",
       "NAME_HOUSING_TYPE           0\n",
       "DAYS_BIRTH                  0\n",
       "DAYS_EMPLOYED               0\n",
       "FLAG_MOBIL                  0\n",
       "FLAG_WORK_PHONE             0\n",
       "FLAG_PHONE                  0\n",
       "FLAG_EMAIL                  0\n",
       "OCCUPATION_TYPE        240048\n",
       "CNT_FAM_MEMBERS             0\n",
       "age                         0\n",
       "years_employed              0\n",
       "MONTHS_BALANCE              0\n",
       "STATUS                      0\n",
       "dtype: int64"
      ]
     },
     "execution_count": 21,
     "metadata": {},
     "output_type": "execute_result"
    }
   ],
   "source": [
    "df.isna().sum()"
   ]
  },
  {
   "cell_type": "code",
   "execution_count": 22,
   "id": "dc7bf3f0-791f-4f0d-87a5-42c92d86d2a5",
   "metadata": {},
   "outputs": [],
   "source": [
    "df.columns = df.columns.str.lower()"
   ]
  },
  {
   "cell_type": "code",
   "execution_count": 23,
   "id": "9e9a5e7b-3a33-4aea-8458-767d902e48a5",
   "metadata": {},
   "outputs": [
    {
     "data": {
      "text/html": [
       "<div>\n",
       "<style scoped>\n",
       "    .dataframe tbody tr th:only-of-type {\n",
       "        vertical-align: middle;\n",
       "    }\n",
       "\n",
       "    .dataframe tbody tr th {\n",
       "        vertical-align: top;\n",
       "    }\n",
       "\n",
       "    .dataframe thead th {\n",
       "        text-align: right;\n",
       "    }\n",
       "</style>\n",
       "<table border=\"1\" class=\"dataframe\">\n",
       "  <thead>\n",
       "    <tr style=\"text-align: right;\">\n",
       "      <th></th>\n",
       "      <th>id</th>\n",
       "      <th>code_gender</th>\n",
       "      <th>flag_own_car</th>\n",
       "      <th>flag_own_realty</th>\n",
       "      <th>cnt_children</th>\n",
       "      <th>amt_income_total</th>\n",
       "      <th>name_income_type</th>\n",
       "      <th>name_education_type</th>\n",
       "      <th>name_family_status</th>\n",
       "      <th>name_housing_type</th>\n",
       "      <th>...</th>\n",
       "      <th>flag_mobil</th>\n",
       "      <th>flag_work_phone</th>\n",
       "      <th>flag_phone</th>\n",
       "      <th>flag_email</th>\n",
       "      <th>occupation_type</th>\n",
       "      <th>cnt_fam_members</th>\n",
       "      <th>age</th>\n",
       "      <th>years_employed</th>\n",
       "      <th>months_balance</th>\n",
       "      <th>status</th>\n",
       "    </tr>\n",
       "  </thead>\n",
       "  <tbody>\n",
       "    <tr>\n",
       "      <th>0</th>\n",
       "      <td>5008804</td>\n",
       "      <td>M</td>\n",
       "      <td>Y</td>\n",
       "      <td>Y</td>\n",
       "      <td>0</td>\n",
       "      <td>427500.0</td>\n",
       "      <td>Working</td>\n",
       "      <td>Higher education</td>\n",
       "      <td>Civil marriage</td>\n",
       "      <td>Rented apartment</td>\n",
       "      <td>...</td>\n",
       "      <td>1</td>\n",
       "      <td>1</td>\n",
       "      <td>0</td>\n",
       "      <td>0</td>\n",
       "      <td>NaN</td>\n",
       "      <td>2.0</td>\n",
       "      <td>33</td>\n",
       "      <td>12</td>\n",
       "      <td>0</td>\n",
       "      <td>C</td>\n",
       "    </tr>\n",
       "    <tr>\n",
       "      <th>1</th>\n",
       "      <td>5008804</td>\n",
       "      <td>M</td>\n",
       "      <td>Y</td>\n",
       "      <td>Y</td>\n",
       "      <td>0</td>\n",
       "      <td>427500.0</td>\n",
       "      <td>Working</td>\n",
       "      <td>Higher education</td>\n",
       "      <td>Civil marriage</td>\n",
       "      <td>Rented apartment</td>\n",
       "      <td>...</td>\n",
       "      <td>1</td>\n",
       "      <td>1</td>\n",
       "      <td>0</td>\n",
       "      <td>0</td>\n",
       "      <td>NaN</td>\n",
       "      <td>2.0</td>\n",
       "      <td>33</td>\n",
       "      <td>12</td>\n",
       "      <td>-1</td>\n",
       "      <td>C</td>\n",
       "    </tr>\n",
       "    <tr>\n",
       "      <th>2</th>\n",
       "      <td>5008804</td>\n",
       "      <td>M</td>\n",
       "      <td>Y</td>\n",
       "      <td>Y</td>\n",
       "      <td>0</td>\n",
       "      <td>427500.0</td>\n",
       "      <td>Working</td>\n",
       "      <td>Higher education</td>\n",
       "      <td>Civil marriage</td>\n",
       "      <td>Rented apartment</td>\n",
       "      <td>...</td>\n",
       "      <td>1</td>\n",
       "      <td>1</td>\n",
       "      <td>0</td>\n",
       "      <td>0</td>\n",
       "      <td>NaN</td>\n",
       "      <td>2.0</td>\n",
       "      <td>33</td>\n",
       "      <td>12</td>\n",
       "      <td>-2</td>\n",
       "      <td>C</td>\n",
       "    </tr>\n",
       "    <tr>\n",
       "      <th>3</th>\n",
       "      <td>5008804</td>\n",
       "      <td>M</td>\n",
       "      <td>Y</td>\n",
       "      <td>Y</td>\n",
       "      <td>0</td>\n",
       "      <td>427500.0</td>\n",
       "      <td>Working</td>\n",
       "      <td>Higher education</td>\n",
       "      <td>Civil marriage</td>\n",
       "      <td>Rented apartment</td>\n",
       "      <td>...</td>\n",
       "      <td>1</td>\n",
       "      <td>1</td>\n",
       "      <td>0</td>\n",
       "      <td>0</td>\n",
       "      <td>NaN</td>\n",
       "      <td>2.0</td>\n",
       "      <td>33</td>\n",
       "      <td>12</td>\n",
       "      <td>-3</td>\n",
       "      <td>C</td>\n",
       "    </tr>\n",
       "    <tr>\n",
       "      <th>4</th>\n",
       "      <td>5008804</td>\n",
       "      <td>M</td>\n",
       "      <td>Y</td>\n",
       "      <td>Y</td>\n",
       "      <td>0</td>\n",
       "      <td>427500.0</td>\n",
       "      <td>Working</td>\n",
       "      <td>Higher education</td>\n",
       "      <td>Civil marriage</td>\n",
       "      <td>Rented apartment</td>\n",
       "      <td>...</td>\n",
       "      <td>1</td>\n",
       "      <td>1</td>\n",
       "      <td>0</td>\n",
       "      <td>0</td>\n",
       "      <td>NaN</td>\n",
       "      <td>2.0</td>\n",
       "      <td>33</td>\n",
       "      <td>12</td>\n",
       "      <td>-4</td>\n",
       "      <td>C</td>\n",
       "    </tr>\n",
       "  </tbody>\n",
       "</table>\n",
       "<p>5 rows × 22 columns</p>\n",
       "</div>"
      ],
      "text/plain": [
       "        id code_gender flag_own_car flag_own_realty  cnt_children  \\\n",
       "0  5008804           M            Y               Y             0   \n",
       "1  5008804           M            Y               Y             0   \n",
       "2  5008804           M            Y               Y             0   \n",
       "3  5008804           M            Y               Y             0   \n",
       "4  5008804           M            Y               Y             0   \n",
       "\n",
       "   amt_income_total name_income_type name_education_type name_family_status  \\\n",
       "0          427500.0          Working    Higher education     Civil marriage   \n",
       "1          427500.0          Working    Higher education     Civil marriage   \n",
       "2          427500.0          Working    Higher education     Civil marriage   \n",
       "3          427500.0          Working    Higher education     Civil marriage   \n",
       "4          427500.0          Working    Higher education     Civil marriage   \n",
       "\n",
       "  name_housing_type  ...  flag_mobil  flag_work_phone  flag_phone  flag_email  \\\n",
       "0  Rented apartment  ...           1                1           0           0   \n",
       "1  Rented apartment  ...           1                1           0           0   \n",
       "2  Rented apartment  ...           1                1           0           0   \n",
       "3  Rented apartment  ...           1                1           0           0   \n",
       "4  Rented apartment  ...           1                1           0           0   \n",
       "\n",
       "   occupation_type  cnt_fam_members age  years_employed  months_balance  \\\n",
       "0              NaN              2.0  33              12               0   \n",
       "1              NaN              2.0  33              12              -1   \n",
       "2              NaN              2.0  33              12              -2   \n",
       "3              NaN              2.0  33              12              -3   \n",
       "4              NaN              2.0  33              12              -4   \n",
       "\n",
       "   status  \n",
       "0       C  \n",
       "1       C  \n",
       "2       C  \n",
       "3       C  \n",
       "4       C  \n",
       "\n",
       "[5 rows x 22 columns]"
      ]
     },
     "execution_count": 23,
     "metadata": {},
     "output_type": "execute_result"
    }
   ],
   "source": [
    "df.head()"
   ]
  },
  {
   "cell_type": "code",
   "execution_count": 24,
   "id": "f7398ce5-ae9c-4d37-8d9d-140616761cdd",
   "metadata": {},
   "outputs": [],
   "source": [
    "# drop columns not using anymore\n",
    "df.drop(['days_birth', 'days_employed'], axis=1, inplace=True)"
   ]
  },
  {
   "cell_type": "code",
   "execution_count": 25,
   "id": "5ce75edc-9f5d-4c9e-8033-52da4a98e2ba",
   "metadata": {},
   "outputs": [
    {
     "data": {
      "text/html": [
       "<div>\n",
       "<style scoped>\n",
       "    .dataframe tbody tr th:only-of-type {\n",
       "        vertical-align: middle;\n",
       "    }\n",
       "\n",
       "    .dataframe tbody tr th {\n",
       "        vertical-align: top;\n",
       "    }\n",
       "\n",
       "    .dataframe thead th {\n",
       "        text-align: right;\n",
       "    }\n",
       "</style>\n",
       "<table border=\"1\" class=\"dataframe\">\n",
       "  <thead>\n",
       "    <tr style=\"text-align: right;\">\n",
       "      <th></th>\n",
       "      <th>id</th>\n",
       "      <th>code_gender</th>\n",
       "      <th>flag_own_car</th>\n",
       "      <th>flag_own_realty</th>\n",
       "      <th>cnt_children</th>\n",
       "      <th>amt_income_total</th>\n",
       "      <th>name_income_type</th>\n",
       "      <th>name_education_type</th>\n",
       "      <th>name_family_status</th>\n",
       "      <th>name_housing_type</th>\n",
       "      <th>flag_mobil</th>\n",
       "      <th>flag_work_phone</th>\n",
       "      <th>flag_phone</th>\n",
       "      <th>flag_email</th>\n",
       "      <th>occupation_type</th>\n",
       "      <th>cnt_fam_members</th>\n",
       "      <th>age</th>\n",
       "      <th>years_employed</th>\n",
       "      <th>months_balance</th>\n",
       "      <th>status</th>\n",
       "    </tr>\n",
       "  </thead>\n",
       "  <tbody>\n",
       "    <tr>\n",
       "      <th>0</th>\n",
       "      <td>5008804</td>\n",
       "      <td>M</td>\n",
       "      <td>Y</td>\n",
       "      <td>Y</td>\n",
       "      <td>0</td>\n",
       "      <td>427500.0</td>\n",
       "      <td>Working</td>\n",
       "      <td>Higher education</td>\n",
       "      <td>Civil marriage</td>\n",
       "      <td>Rented apartment</td>\n",
       "      <td>1</td>\n",
       "      <td>1</td>\n",
       "      <td>0</td>\n",
       "      <td>0</td>\n",
       "      <td>NaN</td>\n",
       "      <td>2.0</td>\n",
       "      <td>33</td>\n",
       "      <td>12</td>\n",
       "      <td>0</td>\n",
       "      <td>C</td>\n",
       "    </tr>\n",
       "    <tr>\n",
       "      <th>1</th>\n",
       "      <td>5008804</td>\n",
       "      <td>M</td>\n",
       "      <td>Y</td>\n",
       "      <td>Y</td>\n",
       "      <td>0</td>\n",
       "      <td>427500.0</td>\n",
       "      <td>Working</td>\n",
       "      <td>Higher education</td>\n",
       "      <td>Civil marriage</td>\n",
       "      <td>Rented apartment</td>\n",
       "      <td>1</td>\n",
       "      <td>1</td>\n",
       "      <td>0</td>\n",
       "      <td>0</td>\n",
       "      <td>NaN</td>\n",
       "      <td>2.0</td>\n",
       "      <td>33</td>\n",
       "      <td>12</td>\n",
       "      <td>-1</td>\n",
       "      <td>C</td>\n",
       "    </tr>\n",
       "    <tr>\n",
       "      <th>2</th>\n",
       "      <td>5008804</td>\n",
       "      <td>M</td>\n",
       "      <td>Y</td>\n",
       "      <td>Y</td>\n",
       "      <td>0</td>\n",
       "      <td>427500.0</td>\n",
       "      <td>Working</td>\n",
       "      <td>Higher education</td>\n",
       "      <td>Civil marriage</td>\n",
       "      <td>Rented apartment</td>\n",
       "      <td>1</td>\n",
       "      <td>1</td>\n",
       "      <td>0</td>\n",
       "      <td>0</td>\n",
       "      <td>NaN</td>\n",
       "      <td>2.0</td>\n",
       "      <td>33</td>\n",
       "      <td>12</td>\n",
       "      <td>-2</td>\n",
       "      <td>C</td>\n",
       "    </tr>\n",
       "    <tr>\n",
       "      <th>3</th>\n",
       "      <td>5008804</td>\n",
       "      <td>M</td>\n",
       "      <td>Y</td>\n",
       "      <td>Y</td>\n",
       "      <td>0</td>\n",
       "      <td>427500.0</td>\n",
       "      <td>Working</td>\n",
       "      <td>Higher education</td>\n",
       "      <td>Civil marriage</td>\n",
       "      <td>Rented apartment</td>\n",
       "      <td>1</td>\n",
       "      <td>1</td>\n",
       "      <td>0</td>\n",
       "      <td>0</td>\n",
       "      <td>NaN</td>\n",
       "      <td>2.0</td>\n",
       "      <td>33</td>\n",
       "      <td>12</td>\n",
       "      <td>-3</td>\n",
       "      <td>C</td>\n",
       "    </tr>\n",
       "    <tr>\n",
       "      <th>4</th>\n",
       "      <td>5008804</td>\n",
       "      <td>M</td>\n",
       "      <td>Y</td>\n",
       "      <td>Y</td>\n",
       "      <td>0</td>\n",
       "      <td>427500.0</td>\n",
       "      <td>Working</td>\n",
       "      <td>Higher education</td>\n",
       "      <td>Civil marriage</td>\n",
       "      <td>Rented apartment</td>\n",
       "      <td>1</td>\n",
       "      <td>1</td>\n",
       "      <td>0</td>\n",
       "      <td>0</td>\n",
       "      <td>NaN</td>\n",
       "      <td>2.0</td>\n",
       "      <td>33</td>\n",
       "      <td>12</td>\n",
       "      <td>-4</td>\n",
       "      <td>C</td>\n",
       "    </tr>\n",
       "  </tbody>\n",
       "</table>\n",
       "</div>"
      ],
      "text/plain": [
       "        id code_gender flag_own_car flag_own_realty  cnt_children  \\\n",
       "0  5008804           M            Y               Y             0   \n",
       "1  5008804           M            Y               Y             0   \n",
       "2  5008804           M            Y               Y             0   \n",
       "3  5008804           M            Y               Y             0   \n",
       "4  5008804           M            Y               Y             0   \n",
       "\n",
       "   amt_income_total name_income_type name_education_type name_family_status  \\\n",
       "0          427500.0          Working    Higher education     Civil marriage   \n",
       "1          427500.0          Working    Higher education     Civil marriage   \n",
       "2          427500.0          Working    Higher education     Civil marriage   \n",
       "3          427500.0          Working    Higher education     Civil marriage   \n",
       "4          427500.0          Working    Higher education     Civil marriage   \n",
       "\n",
       "  name_housing_type  flag_mobil  flag_work_phone  flag_phone  flag_email  \\\n",
       "0  Rented apartment           1                1           0           0   \n",
       "1  Rented apartment           1                1           0           0   \n",
       "2  Rented apartment           1                1           0           0   \n",
       "3  Rented apartment           1                1           0           0   \n",
       "4  Rented apartment           1                1           0           0   \n",
       "\n",
       "  occupation_type  cnt_fam_members  age  years_employed  months_balance status  \n",
       "0             NaN              2.0   33              12               0      C  \n",
       "1             NaN              2.0   33              12              -1      C  \n",
       "2             NaN              2.0   33              12              -2      C  \n",
       "3             NaN              2.0   33              12              -3      C  \n",
       "4             NaN              2.0   33              12              -4      C  "
      ]
     },
     "execution_count": 25,
     "metadata": {},
     "output_type": "execute_result"
    }
   ],
   "source": [
    "df.head()"
   ]
  },
  {
   "cell_type": "code",
   "execution_count": 26,
   "id": "9f8268bd-415d-47f1-aa7e-d72d682d0b36",
   "metadata": {},
   "outputs": [],
   "source": [
    "df.rename(columns={'code_gender': 'gender',\n",
    "                   'flag_own_car': 'car_owned',\n",
    "                   'flag_own_realty': 'realty_owned',\n",
    "                   'cnt_children': 'children',\n",
    "                   'amt_income_total': 'income',\n",
    "                   'name_income_type': 'employment_type',\n",
    "                   'name_education_type': 'education',\n",
    "                   'name_family_status': 'marital_status',\n",
    "                   'name_housing_type': 'housing',\n",
    "                   'days_registration': 'days_registered',\n",
    "                   'flag_mobil': 'phone_owned',\n",
    "                   'flag_work_phone': 'work_phone_owned',\n",
    "                   'flag_phone': 'mobile_phone_owned',\n",
    "                   'flag_email': 'email_owned',\n",
    "                   'occupation_type': 'occupation',\n",
    "                   'cnt_fam_members': 'family_size',\n",
    "                   'status': 'credit_status'}, inplace=True)"
   ]
  },
  {
   "cell_type": "code",
   "execution_count": 27,
   "id": "1a367795-afcf-4b1f-ab87-48483dd270ce",
   "metadata": {},
   "outputs": [
    {
     "data": {
      "text/plain": [
       "Index(['id', 'gender', 'car_owned', 'realty_owned', 'children', 'income',\n",
       "       'employment_type', 'education', 'marital_status', 'housing',\n",
       "       'phone_owned', 'work_phone_owned', 'mobile_phone_owned', 'email_owned',\n",
       "       'occupation', 'family_size', 'age', 'years_employed', 'months_balance',\n",
       "       'credit_status'],\n",
       "      dtype='object')"
      ]
     },
     "execution_count": 27,
     "metadata": {},
     "output_type": "execute_result"
    }
   ],
   "source": [
    "df.columns"
   ]
  },
  {
   "cell_type": "code",
   "execution_count": 28,
   "id": "f4b082cf-aa18-47d1-b5e7-1e871205e45c",
   "metadata": {},
   "outputs": [],
   "source": [
    "df['status_excellent'] = df['credit_status'].map(lambda x: 1 if x in ['X', 'C'] else 0)"
   ]
  },
  {
   "cell_type": "code",
   "execution_count": 29,
   "id": "b322eef5-7c0b-4bd3-9253-8ad1c8dee75a",
   "metadata": {},
   "outputs": [],
   "source": [
    "df['status_good'] = df['credit_status'].map(lambda x: 1 if x in ['X', 'C', '0'] else 0)"
   ]
  },
  {
   "cell_type": "code",
   "execution_count": 30,
   "id": "5c0ca037-7c94-4694-8030-1ad0cb71508c",
   "metadata": {},
   "outputs": [],
   "source": [
    "df['status_bad'] = df['credit_status'].map(lambda x: 1 if x in [ '3','4', '5'] else 0)"
   ]
  },
  {
   "cell_type": "code",
   "execution_count": 31,
   "id": "4933fbc4-235a-4839-9c82-db675ed62e6a",
   "metadata": {},
   "outputs": [
    {
     "data": {
      "text/html": [
       "<div>\n",
       "<style scoped>\n",
       "    .dataframe tbody tr th:only-of-type {\n",
       "        vertical-align: middle;\n",
       "    }\n",
       "\n",
       "    .dataframe tbody tr th {\n",
       "        vertical-align: top;\n",
       "    }\n",
       "\n",
       "    .dataframe thead th {\n",
       "        text-align: right;\n",
       "    }\n",
       "</style>\n",
       "<table border=\"1\" class=\"dataframe\">\n",
       "  <thead>\n",
       "    <tr style=\"text-align: right;\">\n",
       "      <th></th>\n",
       "      <th>id</th>\n",
       "      <th>gender</th>\n",
       "      <th>car_owned</th>\n",
       "      <th>realty_owned</th>\n",
       "      <th>children</th>\n",
       "      <th>income</th>\n",
       "      <th>employment_type</th>\n",
       "      <th>education</th>\n",
       "      <th>marital_status</th>\n",
       "      <th>housing</th>\n",
       "      <th>...</th>\n",
       "      <th>email_owned</th>\n",
       "      <th>occupation</th>\n",
       "      <th>family_size</th>\n",
       "      <th>age</th>\n",
       "      <th>years_employed</th>\n",
       "      <th>months_balance</th>\n",
       "      <th>credit_status</th>\n",
       "      <th>status_excellent</th>\n",
       "      <th>status_good</th>\n",
       "      <th>status_bad</th>\n",
       "    </tr>\n",
       "  </thead>\n",
       "  <tbody>\n",
       "    <tr>\n",
       "      <th>0</th>\n",
       "      <td>5008804</td>\n",
       "      <td>M</td>\n",
       "      <td>Y</td>\n",
       "      <td>Y</td>\n",
       "      <td>0</td>\n",
       "      <td>427500.0</td>\n",
       "      <td>Working</td>\n",
       "      <td>Higher education</td>\n",
       "      <td>Civil marriage</td>\n",
       "      <td>Rented apartment</td>\n",
       "      <td>...</td>\n",
       "      <td>0</td>\n",
       "      <td>NaN</td>\n",
       "      <td>2.0</td>\n",
       "      <td>33</td>\n",
       "      <td>12</td>\n",
       "      <td>0</td>\n",
       "      <td>C</td>\n",
       "      <td>1</td>\n",
       "      <td>1</td>\n",
       "      <td>0</td>\n",
       "    </tr>\n",
       "    <tr>\n",
       "      <th>1</th>\n",
       "      <td>5008804</td>\n",
       "      <td>M</td>\n",
       "      <td>Y</td>\n",
       "      <td>Y</td>\n",
       "      <td>0</td>\n",
       "      <td>427500.0</td>\n",
       "      <td>Working</td>\n",
       "      <td>Higher education</td>\n",
       "      <td>Civil marriage</td>\n",
       "      <td>Rented apartment</td>\n",
       "      <td>...</td>\n",
       "      <td>0</td>\n",
       "      <td>NaN</td>\n",
       "      <td>2.0</td>\n",
       "      <td>33</td>\n",
       "      <td>12</td>\n",
       "      <td>-1</td>\n",
       "      <td>C</td>\n",
       "      <td>1</td>\n",
       "      <td>1</td>\n",
       "      <td>0</td>\n",
       "    </tr>\n",
       "    <tr>\n",
       "      <th>2</th>\n",
       "      <td>5008804</td>\n",
       "      <td>M</td>\n",
       "      <td>Y</td>\n",
       "      <td>Y</td>\n",
       "      <td>0</td>\n",
       "      <td>427500.0</td>\n",
       "      <td>Working</td>\n",
       "      <td>Higher education</td>\n",
       "      <td>Civil marriage</td>\n",
       "      <td>Rented apartment</td>\n",
       "      <td>...</td>\n",
       "      <td>0</td>\n",
       "      <td>NaN</td>\n",
       "      <td>2.0</td>\n",
       "      <td>33</td>\n",
       "      <td>12</td>\n",
       "      <td>-2</td>\n",
       "      <td>C</td>\n",
       "      <td>1</td>\n",
       "      <td>1</td>\n",
       "      <td>0</td>\n",
       "    </tr>\n",
       "    <tr>\n",
       "      <th>3</th>\n",
       "      <td>5008804</td>\n",
       "      <td>M</td>\n",
       "      <td>Y</td>\n",
       "      <td>Y</td>\n",
       "      <td>0</td>\n",
       "      <td>427500.0</td>\n",
       "      <td>Working</td>\n",
       "      <td>Higher education</td>\n",
       "      <td>Civil marriage</td>\n",
       "      <td>Rented apartment</td>\n",
       "      <td>...</td>\n",
       "      <td>0</td>\n",
       "      <td>NaN</td>\n",
       "      <td>2.0</td>\n",
       "      <td>33</td>\n",
       "      <td>12</td>\n",
       "      <td>-3</td>\n",
       "      <td>C</td>\n",
       "      <td>1</td>\n",
       "      <td>1</td>\n",
       "      <td>0</td>\n",
       "    </tr>\n",
       "    <tr>\n",
       "      <th>4</th>\n",
       "      <td>5008804</td>\n",
       "      <td>M</td>\n",
       "      <td>Y</td>\n",
       "      <td>Y</td>\n",
       "      <td>0</td>\n",
       "      <td>427500.0</td>\n",
       "      <td>Working</td>\n",
       "      <td>Higher education</td>\n",
       "      <td>Civil marriage</td>\n",
       "      <td>Rented apartment</td>\n",
       "      <td>...</td>\n",
       "      <td>0</td>\n",
       "      <td>NaN</td>\n",
       "      <td>2.0</td>\n",
       "      <td>33</td>\n",
       "      <td>12</td>\n",
       "      <td>-4</td>\n",
       "      <td>C</td>\n",
       "      <td>1</td>\n",
       "      <td>1</td>\n",
       "      <td>0</td>\n",
       "    </tr>\n",
       "  </tbody>\n",
       "</table>\n",
       "<p>5 rows × 23 columns</p>\n",
       "</div>"
      ],
      "text/plain": [
       "        id gender car_owned realty_owned  children    income employment_type  \\\n",
       "0  5008804      M         Y            Y         0  427500.0         Working   \n",
       "1  5008804      M         Y            Y         0  427500.0         Working   \n",
       "2  5008804      M         Y            Y         0  427500.0         Working   \n",
       "3  5008804      M         Y            Y         0  427500.0         Working   \n",
       "4  5008804      M         Y            Y         0  427500.0         Working   \n",
       "\n",
       "          education  marital_status           housing  ...  email_owned  \\\n",
       "0  Higher education  Civil marriage  Rented apartment  ...            0   \n",
       "1  Higher education  Civil marriage  Rented apartment  ...            0   \n",
       "2  Higher education  Civil marriage  Rented apartment  ...            0   \n",
       "3  Higher education  Civil marriage  Rented apartment  ...            0   \n",
       "4  Higher education  Civil marriage  Rented apartment  ...            0   \n",
       "\n",
       "   occupation  family_size  age years_employed  months_balance  credit_status  \\\n",
       "0         NaN          2.0   33             12               0              C   \n",
       "1         NaN          2.0   33             12              -1              C   \n",
       "2         NaN          2.0   33             12              -2              C   \n",
       "3         NaN          2.0   33             12              -3              C   \n",
       "4         NaN          2.0   33             12              -4              C   \n",
       "\n",
       "   status_excellent  status_good status_bad  \n",
       "0                 1            1          0  \n",
       "1                 1            1          0  \n",
       "2                 1            1          0  \n",
       "3                 1            1          0  \n",
       "4                 1            1          0  \n",
       "\n",
       "[5 rows x 23 columns]"
      ]
     },
     "execution_count": 31,
     "metadata": {},
     "output_type": "execute_result"
    }
   ],
   "source": [
    "df.head()"
   ]
  },
  {
   "cell_type": "code",
   "execution_count": 32,
   "id": "1ae2ef2c-9a2d-4a4c-b142-adaa6ed89e54",
   "metadata": {},
   "outputs": [
    {
     "data": {
      "text/html": [
       "<div>\n",
       "<style scoped>\n",
       "    .dataframe tbody tr th:only-of-type {\n",
       "        vertical-align: middle;\n",
       "    }\n",
       "\n",
       "    .dataframe tbody tr th {\n",
       "        vertical-align: top;\n",
       "    }\n",
       "\n",
       "    .dataframe thead th {\n",
       "        text-align: right;\n",
       "    }\n",
       "</style>\n",
       "<table border=\"1\" class=\"dataframe\">\n",
       "  <thead>\n",
       "    <tr style=\"text-align: right;\">\n",
       "      <th></th>\n",
       "      <th>id</th>\n",
       "      <th>gender</th>\n",
       "      <th>car_owned</th>\n",
       "      <th>realty_owned</th>\n",
       "      <th>children</th>\n",
       "      <th>income</th>\n",
       "      <th>employment_type</th>\n",
       "      <th>education</th>\n",
       "      <th>marital_status</th>\n",
       "      <th>housing</th>\n",
       "      <th>...</th>\n",
       "      <th>status_excellent</th>\n",
       "      <th>status_good</th>\n",
       "      <th>status_bad</th>\n",
       "      <th>total_records</th>\n",
       "      <th>total_on_payments_ex</th>\n",
       "      <th>total_on_payments_good</th>\n",
       "      <th>total_on_payments_bad</th>\n",
       "      <th>excellent_payback</th>\n",
       "      <th>good_payback</th>\n",
       "      <th>bad_payback</th>\n",
       "    </tr>\n",
       "  </thead>\n",
       "  <tbody>\n",
       "    <tr>\n",
       "      <th>0</th>\n",
       "      <td>5008804</td>\n",
       "      <td>M</td>\n",
       "      <td>Y</td>\n",
       "      <td>Y</td>\n",
       "      <td>0</td>\n",
       "      <td>427500.0</td>\n",
       "      <td>Working</td>\n",
       "      <td>Higher education</td>\n",
       "      <td>Civil marriage</td>\n",
       "      <td>Rented apartment</td>\n",
       "      <td>...</td>\n",
       "      <td>1</td>\n",
       "      <td>1</td>\n",
       "      <td>0</td>\n",
       "      <td>16</td>\n",
       "      <td>14</td>\n",
       "      <td>15</td>\n",
       "      <td>0</td>\n",
       "      <td>87.500000</td>\n",
       "      <td>93.750000</td>\n",
       "      <td>0.0</td>\n",
       "    </tr>\n",
       "    <tr>\n",
       "      <th>16</th>\n",
       "      <td>5008805</td>\n",
       "      <td>M</td>\n",
       "      <td>Y</td>\n",
       "      <td>Y</td>\n",
       "      <td>0</td>\n",
       "      <td>427500.0</td>\n",
       "      <td>Working</td>\n",
       "      <td>Higher education</td>\n",
       "      <td>Civil marriage</td>\n",
       "      <td>Rented apartment</td>\n",
       "      <td>...</td>\n",
       "      <td>1</td>\n",
       "      <td>1</td>\n",
       "      <td>0</td>\n",
       "      <td>15</td>\n",
       "      <td>13</td>\n",
       "      <td>14</td>\n",
       "      <td>0</td>\n",
       "      <td>86.666667</td>\n",
       "      <td>93.333333</td>\n",
       "      <td>0.0</td>\n",
       "    </tr>\n",
       "    <tr>\n",
       "      <th>31</th>\n",
       "      <td>5008806</td>\n",
       "      <td>M</td>\n",
       "      <td>Y</td>\n",
       "      <td>Y</td>\n",
       "      <td>0</td>\n",
       "      <td>112500.0</td>\n",
       "      <td>Working</td>\n",
       "      <td>Secondary / secondary special</td>\n",
       "      <td>Married</td>\n",
       "      <td>House / apartment</td>\n",
       "      <td>...</td>\n",
       "      <td>1</td>\n",
       "      <td>1</td>\n",
       "      <td>0</td>\n",
       "      <td>30</td>\n",
       "      <td>23</td>\n",
       "      <td>30</td>\n",
       "      <td>0</td>\n",
       "      <td>76.666667</td>\n",
       "      <td>100.000000</td>\n",
       "      <td>0.0</td>\n",
       "    </tr>\n",
       "    <tr>\n",
       "      <th>61</th>\n",
       "      <td>5008808</td>\n",
       "      <td>F</td>\n",
       "      <td>N</td>\n",
       "      <td>Y</td>\n",
       "      <td>0</td>\n",
       "      <td>270000.0</td>\n",
       "      <td>Commercial associate</td>\n",
       "      <td>Secondary / secondary special</td>\n",
       "      <td>Single / not married</td>\n",
       "      <td>House / apartment</td>\n",
       "      <td>...</td>\n",
       "      <td>0</td>\n",
       "      <td>1</td>\n",
       "      <td>0</td>\n",
       "      <td>5</td>\n",
       "      <td>3</td>\n",
       "      <td>5</td>\n",
       "      <td>0</td>\n",
       "      <td>60.000000</td>\n",
       "      <td>100.000000</td>\n",
       "      <td>0.0</td>\n",
       "    </tr>\n",
       "    <tr>\n",
       "      <th>66</th>\n",
       "      <td>5008809</td>\n",
       "      <td>F</td>\n",
       "      <td>N</td>\n",
       "      <td>Y</td>\n",
       "      <td>0</td>\n",
       "      <td>270000.0</td>\n",
       "      <td>Commercial associate</td>\n",
       "      <td>Secondary / secondary special</td>\n",
       "      <td>Single / not married</td>\n",
       "      <td>House / apartment</td>\n",
       "      <td>...</td>\n",
       "      <td>1</td>\n",
       "      <td>1</td>\n",
       "      <td>0</td>\n",
       "      <td>5</td>\n",
       "      <td>5</td>\n",
       "      <td>5</td>\n",
       "      <td>0</td>\n",
       "      <td>100.000000</td>\n",
       "      <td>100.000000</td>\n",
       "      <td>0.0</td>\n",
       "    </tr>\n",
       "  </tbody>\n",
       "</table>\n",
       "<p>5 rows × 30 columns</p>\n",
       "</div>"
      ],
      "text/plain": [
       "         id gender car_owned realty_owned  children    income  \\\n",
       "0   5008804      M         Y            Y         0  427500.0   \n",
       "16  5008805      M         Y            Y         0  427500.0   \n",
       "31  5008806      M         Y            Y         0  112500.0   \n",
       "61  5008808      F         N            Y         0  270000.0   \n",
       "66  5008809      F         N            Y         0  270000.0   \n",
       "\n",
       "         employment_type                      education        marital_status  \\\n",
       "0                Working               Higher education        Civil marriage   \n",
       "16               Working               Higher education        Civil marriage   \n",
       "31               Working  Secondary / secondary special               Married   \n",
       "61  Commercial associate  Secondary / secondary special  Single / not married   \n",
       "66  Commercial associate  Secondary / secondary special  Single / not married   \n",
       "\n",
       "              housing  ...  status_excellent  status_good  status_bad  \\\n",
       "0    Rented apartment  ...                 1            1           0   \n",
       "16   Rented apartment  ...                 1            1           0   \n",
       "31  House / apartment  ...                 1            1           0   \n",
       "61  House / apartment  ...                 0            1           0   \n",
       "66  House / apartment  ...                 1            1           0   \n",
       "\n",
       "    total_records total_on_payments_ex  total_on_payments_good  \\\n",
       "0              16                   14                      15   \n",
       "16             15                   13                      14   \n",
       "31             30                   23                      30   \n",
       "61              5                    3                       5   \n",
       "66              5                    5                       5   \n",
       "\n",
       "    total_on_payments_bad  excellent_payback  good_payback bad_payback  \n",
       "0                       0          87.500000     93.750000         0.0  \n",
       "16                      0          86.666667     93.333333         0.0  \n",
       "31                      0          76.666667    100.000000         0.0  \n",
       "61                      0          60.000000    100.000000         0.0  \n",
       "66                      0         100.000000    100.000000         0.0  \n",
       "\n",
       "[5 rows x 30 columns]"
      ]
     },
     "execution_count": 32,
     "metadata": {},
     "output_type": "execute_result"
    }
   ],
   "source": [
    "# Convert status columns to integer type\n",
    "df['status_excellent'] = df['status_excellent'].astype(int)\n",
    "df['status_good'] = df['status_good'].astype(int)\n",
    "df['status_bad'] = df['status_bad'].astype(int)\n",
    "\n",
    "# Count total number of records per applicant (only needs to be done once)\n",
    "total_records = df.groupby('id').size().reset_index(name='total_records')\n",
    "\n",
    "# Count how many times STATUS is 1 (on-time payments) per applicant\n",
    "ot_excellent = df.groupby('id')['status_excellent'].sum().reset_index(name='total_on_payments_ex')\n",
    "ot_good = df.groupby('id')['status_good'].sum().reset_index(name='total_on_payments_good')\n",
    "ot_bad = df.groupby('id')['status_bad'].sum().reset_index(name='total_on_payments_bad')\n",
    "\n",
    "# Merge all counts into one dataframe\n",
    "payment_stats = total_records.merge(ot_excellent, on='id').merge(ot_good, on='id').merge(ot_bad, on='id')\n",
    "\n",
    "# Calculate on-time payment rate correctly\n",
    "payment_stats['excellent_payback'] = (payment_stats['total_on_payments_ex'] / payment_stats['total_records']) * 100\n",
    "payment_stats['good_payback'] = (payment_stats['total_on_payments_good'] / payment_stats['total_records']) * 100\n",
    "payment_stats['bad_payback'] = (payment_stats['total_on_payments_bad'] / payment_stats['total_records']) * 100\n",
    "\n",
    "# Merge the computed payment stats back to the main dataframe\n",
    "df = df.merge(payment_stats, on='id')\n",
    "\n",
    "# Remove duplicate rows, keeping only unique applicants\n",
    "df = df.drop_duplicates(subset=['id'])\n",
    "\n",
    "# Display the first few rows\n",
    "df.head()"
   ]
  },
  {
   "cell_type": "code",
   "execution_count": 33,
   "id": "c36c9afb-0d23-4e87-a345-855cab13e13f",
   "metadata": {},
   "outputs": [],
   "source": [
    "# drop occuption column (too many missing values)\n",
    "df = df.drop(columns = ['occupation'])"
   ]
  },
  {
   "cell_type": "markdown",
   "id": "1398e685-3310-43c1-bb66-fa0655689edf",
   "metadata": {},
   "source": [
    "## Defining new columns"
   ]
  },
  {
   "cell_type": "code",
   "execution_count": 35,
   "id": "f8f3d95e-02c2-400a-9c65-9220db60b76f",
   "metadata": {},
   "outputs": [
    {
     "data": {
      "text/plain": [
       "Index(['id', 'gender', 'car_owned', 'realty_owned', 'children', 'income',\n",
       "       'employment_type', 'education', 'marital_status', 'housing',\n",
       "       'phone_owned', 'work_phone_owned', 'mobile_phone_owned', 'email_owned',\n",
       "       'family_size', 'age', 'years_employed', 'months_balance',\n",
       "       'credit_status', 'status_excellent', 'status_good', 'status_bad',\n",
       "       'total_records', 'total_on_payments_ex', 'total_on_payments_good',\n",
       "       'total_on_payments_bad', 'excellent_payback', 'good_payback',\n",
       "       'bad_payback'],\n",
       "      dtype='object')"
      ]
     },
     "execution_count": 35,
     "metadata": {},
     "output_type": "execute_result"
    }
   ],
   "source": [
    "df.columns"
   ]
  },
  {
   "cell_type": "markdown",
   "id": "c1cec794-50c1-468c-9a01-98841a68e340",
   "metadata": {},
   "source": [
    "Define new columns for paying back 90%, 80% and 70% on time"
   ]
  },
  {
   "cell_type": "code",
   "execution_count": 37,
   "id": "529f7294-9689-4b88-b3bb-c8c71e17d9bc",
   "metadata": {},
   "outputs": [],
   "source": [
    "df['90_excellent'] = (df['excellent_payback'] >= 90).astype(int)"
   ]
  },
  {
   "cell_type": "code",
   "execution_count": 38,
   "id": "91d3b843-516f-4208-82a8-c06559a3c98c",
   "metadata": {},
   "outputs": [
    {
     "data": {
      "text/html": [
       "<div>\n",
       "<style scoped>\n",
       "    .dataframe tbody tr th:only-of-type {\n",
       "        vertical-align: middle;\n",
       "    }\n",
       "\n",
       "    .dataframe tbody tr th {\n",
       "        vertical-align: top;\n",
       "    }\n",
       "\n",
       "    .dataframe thead th {\n",
       "        text-align: right;\n",
       "    }\n",
       "</style>\n",
       "<table border=\"1\" class=\"dataframe\">\n",
       "  <thead>\n",
       "    <tr style=\"text-align: right;\">\n",
       "      <th></th>\n",
       "      <th>id</th>\n",
       "      <th>gender</th>\n",
       "      <th>car_owned</th>\n",
       "      <th>realty_owned</th>\n",
       "      <th>children</th>\n",
       "      <th>income</th>\n",
       "      <th>employment_type</th>\n",
       "      <th>education</th>\n",
       "      <th>marital_status</th>\n",
       "      <th>housing</th>\n",
       "      <th>...</th>\n",
       "      <th>status_good</th>\n",
       "      <th>status_bad</th>\n",
       "      <th>total_records</th>\n",
       "      <th>total_on_payments_ex</th>\n",
       "      <th>total_on_payments_good</th>\n",
       "      <th>total_on_payments_bad</th>\n",
       "      <th>excellent_payback</th>\n",
       "      <th>good_payback</th>\n",
       "      <th>bad_payback</th>\n",
       "      <th>90_excellent</th>\n",
       "    </tr>\n",
       "  </thead>\n",
       "  <tbody>\n",
       "    <tr>\n",
       "      <th>0</th>\n",
       "      <td>5008804</td>\n",
       "      <td>M</td>\n",
       "      <td>Y</td>\n",
       "      <td>Y</td>\n",
       "      <td>0</td>\n",
       "      <td>427500.0</td>\n",
       "      <td>Working</td>\n",
       "      <td>Higher education</td>\n",
       "      <td>Civil marriage</td>\n",
       "      <td>Rented apartment</td>\n",
       "      <td>...</td>\n",
       "      <td>1</td>\n",
       "      <td>0</td>\n",
       "      <td>16</td>\n",
       "      <td>14</td>\n",
       "      <td>15</td>\n",
       "      <td>0</td>\n",
       "      <td>87.500000</td>\n",
       "      <td>93.750000</td>\n",
       "      <td>0.0</td>\n",
       "      <td>0</td>\n",
       "    </tr>\n",
       "    <tr>\n",
       "      <th>16</th>\n",
       "      <td>5008805</td>\n",
       "      <td>M</td>\n",
       "      <td>Y</td>\n",
       "      <td>Y</td>\n",
       "      <td>0</td>\n",
       "      <td>427500.0</td>\n",
       "      <td>Working</td>\n",
       "      <td>Higher education</td>\n",
       "      <td>Civil marriage</td>\n",
       "      <td>Rented apartment</td>\n",
       "      <td>...</td>\n",
       "      <td>1</td>\n",
       "      <td>0</td>\n",
       "      <td>15</td>\n",
       "      <td>13</td>\n",
       "      <td>14</td>\n",
       "      <td>0</td>\n",
       "      <td>86.666667</td>\n",
       "      <td>93.333333</td>\n",
       "      <td>0.0</td>\n",
       "      <td>0</td>\n",
       "    </tr>\n",
       "    <tr>\n",
       "      <th>31</th>\n",
       "      <td>5008806</td>\n",
       "      <td>M</td>\n",
       "      <td>Y</td>\n",
       "      <td>Y</td>\n",
       "      <td>0</td>\n",
       "      <td>112500.0</td>\n",
       "      <td>Working</td>\n",
       "      <td>Secondary / secondary special</td>\n",
       "      <td>Married</td>\n",
       "      <td>House / apartment</td>\n",
       "      <td>...</td>\n",
       "      <td>1</td>\n",
       "      <td>0</td>\n",
       "      <td>30</td>\n",
       "      <td>23</td>\n",
       "      <td>30</td>\n",
       "      <td>0</td>\n",
       "      <td>76.666667</td>\n",
       "      <td>100.000000</td>\n",
       "      <td>0.0</td>\n",
       "      <td>0</td>\n",
       "    </tr>\n",
       "    <tr>\n",
       "      <th>61</th>\n",
       "      <td>5008808</td>\n",
       "      <td>F</td>\n",
       "      <td>N</td>\n",
       "      <td>Y</td>\n",
       "      <td>0</td>\n",
       "      <td>270000.0</td>\n",
       "      <td>Commercial associate</td>\n",
       "      <td>Secondary / secondary special</td>\n",
       "      <td>Single / not married</td>\n",
       "      <td>House / apartment</td>\n",
       "      <td>...</td>\n",
       "      <td>1</td>\n",
       "      <td>0</td>\n",
       "      <td>5</td>\n",
       "      <td>3</td>\n",
       "      <td>5</td>\n",
       "      <td>0</td>\n",
       "      <td>60.000000</td>\n",
       "      <td>100.000000</td>\n",
       "      <td>0.0</td>\n",
       "      <td>0</td>\n",
       "    </tr>\n",
       "    <tr>\n",
       "      <th>66</th>\n",
       "      <td>5008809</td>\n",
       "      <td>F</td>\n",
       "      <td>N</td>\n",
       "      <td>Y</td>\n",
       "      <td>0</td>\n",
       "      <td>270000.0</td>\n",
       "      <td>Commercial associate</td>\n",
       "      <td>Secondary / secondary special</td>\n",
       "      <td>Single / not married</td>\n",
       "      <td>House / apartment</td>\n",
       "      <td>...</td>\n",
       "      <td>1</td>\n",
       "      <td>0</td>\n",
       "      <td>5</td>\n",
       "      <td>5</td>\n",
       "      <td>5</td>\n",
       "      <td>0</td>\n",
       "      <td>100.000000</td>\n",
       "      <td>100.000000</td>\n",
       "      <td>0.0</td>\n",
       "      <td>1</td>\n",
       "    </tr>\n",
       "  </tbody>\n",
       "</table>\n",
       "<p>5 rows × 30 columns</p>\n",
       "</div>"
      ],
      "text/plain": [
       "         id gender car_owned realty_owned  children    income  \\\n",
       "0   5008804      M         Y            Y         0  427500.0   \n",
       "16  5008805      M         Y            Y         0  427500.0   \n",
       "31  5008806      M         Y            Y         0  112500.0   \n",
       "61  5008808      F         N            Y         0  270000.0   \n",
       "66  5008809      F         N            Y         0  270000.0   \n",
       "\n",
       "         employment_type                      education        marital_status  \\\n",
       "0                Working               Higher education        Civil marriage   \n",
       "16               Working               Higher education        Civil marriage   \n",
       "31               Working  Secondary / secondary special               Married   \n",
       "61  Commercial associate  Secondary / secondary special  Single / not married   \n",
       "66  Commercial associate  Secondary / secondary special  Single / not married   \n",
       "\n",
       "              housing  ...  status_good  status_bad  total_records  \\\n",
       "0    Rented apartment  ...            1           0             16   \n",
       "16   Rented apartment  ...            1           0             15   \n",
       "31  House / apartment  ...            1           0             30   \n",
       "61  House / apartment  ...            1           0              5   \n",
       "66  House / apartment  ...            1           0              5   \n",
       "\n",
       "    total_on_payments_ex  total_on_payments_good  total_on_payments_bad  \\\n",
       "0                     14                      15                      0   \n",
       "16                    13                      14                      0   \n",
       "31                    23                      30                      0   \n",
       "61                     3                       5                      0   \n",
       "66                     5                       5                      0   \n",
       "\n",
       "    excellent_payback  good_payback bad_payback  90_excellent  \n",
       "0           87.500000     93.750000         0.0             0  \n",
       "16          86.666667     93.333333         0.0             0  \n",
       "31          76.666667    100.000000         0.0             0  \n",
       "61          60.000000    100.000000         0.0             0  \n",
       "66         100.000000    100.000000         0.0             1  \n",
       "\n",
       "[5 rows x 30 columns]"
      ]
     },
     "execution_count": 38,
     "metadata": {},
     "output_type": "execute_result"
    }
   ],
   "source": [
    "df.head()"
   ]
  },
  {
   "cell_type": "code",
   "execution_count": 39,
   "id": "242fed58-1e48-492e-bcc1-8bbd298605f0",
   "metadata": {},
   "outputs": [],
   "source": [
    "df['80_excellent'] = (df['excellent_payback'] >= 80).astype(int)"
   ]
  },
  {
   "cell_type": "code",
   "execution_count": 40,
   "id": "983d3afe-f4f0-4e20-87cc-c2c0e53b2ef0",
   "metadata": {},
   "outputs": [],
   "source": [
    "df['70_excellent'] = (df['excellent_payback'] >= 70).astype(int)"
   ]
  },
  {
   "cell_type": "code",
   "execution_count": 41,
   "id": "9da0ad4d-1e95-46e8-b85d-15b331a727ba",
   "metadata": {},
   "outputs": [],
   "source": [
    "df['75_excellent'] = (df['excellent_payback'] >= 75).astype(int)"
   ]
  },
  {
   "cell_type": "markdown",
   "id": "3433c201-5483-44bd-b802-5f8ce3a90ced",
   "metadata": {},
   "source": [
    "Define new columns for paying back within 30 days or less 90%, 80%, and 75% of the time"
   ]
  },
  {
   "cell_type": "code",
   "execution_count": 43,
   "id": "c99fcf83-2833-4597-bc94-ceb28937c295",
   "metadata": {},
   "outputs": [],
   "source": [
    "df['70_good'] = (df['good_payback'] >= 70).astype(int)\n",
    "df['80_good'] = (df['good_payback'] >= 80).astype(int)\n",
    "df['90_good'] = (df['good_payback'] >= 90).astype(int)"
   ]
  },
  {
   "cell_type": "code",
   "execution_count": 44,
   "id": "e96c9c6c-2385-4adb-b3b0-d17c0dba54dd",
   "metadata": {},
   "outputs": [
    {
     "data": {
      "text/html": [
       "<div>\n",
       "<style scoped>\n",
       "    .dataframe tbody tr th:only-of-type {\n",
       "        vertical-align: middle;\n",
       "    }\n",
       "\n",
       "    .dataframe tbody tr th {\n",
       "        vertical-align: top;\n",
       "    }\n",
       "\n",
       "    .dataframe thead th {\n",
       "        text-align: right;\n",
       "    }\n",
       "</style>\n",
       "<table border=\"1\" class=\"dataframe\">\n",
       "  <thead>\n",
       "    <tr style=\"text-align: right;\">\n",
       "      <th></th>\n",
       "      <th>id</th>\n",
       "      <th>gender</th>\n",
       "      <th>car_owned</th>\n",
       "      <th>realty_owned</th>\n",
       "      <th>children</th>\n",
       "      <th>income</th>\n",
       "      <th>employment_type</th>\n",
       "      <th>education</th>\n",
       "      <th>marital_status</th>\n",
       "      <th>housing</th>\n",
       "      <th>...</th>\n",
       "      <th>excellent_payback</th>\n",
       "      <th>good_payback</th>\n",
       "      <th>bad_payback</th>\n",
       "      <th>90_excellent</th>\n",
       "      <th>80_excellent</th>\n",
       "      <th>70_excellent</th>\n",
       "      <th>75_excellent</th>\n",
       "      <th>70_good</th>\n",
       "      <th>80_good</th>\n",
       "      <th>90_good</th>\n",
       "    </tr>\n",
       "  </thead>\n",
       "  <tbody>\n",
       "    <tr>\n",
       "      <th>0</th>\n",
       "      <td>5008804</td>\n",
       "      <td>M</td>\n",
       "      <td>Y</td>\n",
       "      <td>Y</td>\n",
       "      <td>0</td>\n",
       "      <td>427500.0</td>\n",
       "      <td>Working</td>\n",
       "      <td>Higher education</td>\n",
       "      <td>Civil marriage</td>\n",
       "      <td>Rented apartment</td>\n",
       "      <td>...</td>\n",
       "      <td>87.500000</td>\n",
       "      <td>93.750000</td>\n",
       "      <td>0.0</td>\n",
       "      <td>0</td>\n",
       "      <td>1</td>\n",
       "      <td>1</td>\n",
       "      <td>1</td>\n",
       "      <td>1</td>\n",
       "      <td>1</td>\n",
       "      <td>1</td>\n",
       "    </tr>\n",
       "    <tr>\n",
       "      <th>16</th>\n",
       "      <td>5008805</td>\n",
       "      <td>M</td>\n",
       "      <td>Y</td>\n",
       "      <td>Y</td>\n",
       "      <td>0</td>\n",
       "      <td>427500.0</td>\n",
       "      <td>Working</td>\n",
       "      <td>Higher education</td>\n",
       "      <td>Civil marriage</td>\n",
       "      <td>Rented apartment</td>\n",
       "      <td>...</td>\n",
       "      <td>86.666667</td>\n",
       "      <td>93.333333</td>\n",
       "      <td>0.0</td>\n",
       "      <td>0</td>\n",
       "      <td>1</td>\n",
       "      <td>1</td>\n",
       "      <td>1</td>\n",
       "      <td>1</td>\n",
       "      <td>1</td>\n",
       "      <td>1</td>\n",
       "    </tr>\n",
       "    <tr>\n",
       "      <th>31</th>\n",
       "      <td>5008806</td>\n",
       "      <td>M</td>\n",
       "      <td>Y</td>\n",
       "      <td>Y</td>\n",
       "      <td>0</td>\n",
       "      <td>112500.0</td>\n",
       "      <td>Working</td>\n",
       "      <td>Secondary / secondary special</td>\n",
       "      <td>Married</td>\n",
       "      <td>House / apartment</td>\n",
       "      <td>...</td>\n",
       "      <td>76.666667</td>\n",
       "      <td>100.000000</td>\n",
       "      <td>0.0</td>\n",
       "      <td>0</td>\n",
       "      <td>0</td>\n",
       "      <td>1</td>\n",
       "      <td>1</td>\n",
       "      <td>1</td>\n",
       "      <td>1</td>\n",
       "      <td>1</td>\n",
       "    </tr>\n",
       "    <tr>\n",
       "      <th>61</th>\n",
       "      <td>5008808</td>\n",
       "      <td>F</td>\n",
       "      <td>N</td>\n",
       "      <td>Y</td>\n",
       "      <td>0</td>\n",
       "      <td>270000.0</td>\n",
       "      <td>Commercial associate</td>\n",
       "      <td>Secondary / secondary special</td>\n",
       "      <td>Single / not married</td>\n",
       "      <td>House / apartment</td>\n",
       "      <td>...</td>\n",
       "      <td>60.000000</td>\n",
       "      <td>100.000000</td>\n",
       "      <td>0.0</td>\n",
       "      <td>0</td>\n",
       "      <td>0</td>\n",
       "      <td>0</td>\n",
       "      <td>0</td>\n",
       "      <td>1</td>\n",
       "      <td>1</td>\n",
       "      <td>1</td>\n",
       "    </tr>\n",
       "    <tr>\n",
       "      <th>66</th>\n",
       "      <td>5008809</td>\n",
       "      <td>F</td>\n",
       "      <td>N</td>\n",
       "      <td>Y</td>\n",
       "      <td>0</td>\n",
       "      <td>270000.0</td>\n",
       "      <td>Commercial associate</td>\n",
       "      <td>Secondary / secondary special</td>\n",
       "      <td>Single / not married</td>\n",
       "      <td>House / apartment</td>\n",
       "      <td>...</td>\n",
       "      <td>100.000000</td>\n",
       "      <td>100.000000</td>\n",
       "      <td>0.0</td>\n",
       "      <td>1</td>\n",
       "      <td>1</td>\n",
       "      <td>1</td>\n",
       "      <td>1</td>\n",
       "      <td>1</td>\n",
       "      <td>1</td>\n",
       "      <td>1</td>\n",
       "    </tr>\n",
       "  </tbody>\n",
       "</table>\n",
       "<p>5 rows × 36 columns</p>\n",
       "</div>"
      ],
      "text/plain": [
       "         id gender car_owned realty_owned  children    income  \\\n",
       "0   5008804      M         Y            Y         0  427500.0   \n",
       "16  5008805      M         Y            Y         0  427500.0   \n",
       "31  5008806      M         Y            Y         0  112500.0   \n",
       "61  5008808      F         N            Y         0  270000.0   \n",
       "66  5008809      F         N            Y         0  270000.0   \n",
       "\n",
       "         employment_type                      education        marital_status  \\\n",
       "0                Working               Higher education        Civil marriage   \n",
       "16               Working               Higher education        Civil marriage   \n",
       "31               Working  Secondary / secondary special               Married   \n",
       "61  Commercial associate  Secondary / secondary special  Single / not married   \n",
       "66  Commercial associate  Secondary / secondary special  Single / not married   \n",
       "\n",
       "              housing  ...  excellent_payback  good_payback  bad_payback  \\\n",
       "0    Rented apartment  ...          87.500000     93.750000          0.0   \n",
       "16   Rented apartment  ...          86.666667     93.333333          0.0   \n",
       "31  House / apartment  ...          76.666667    100.000000          0.0   \n",
       "61  House / apartment  ...          60.000000    100.000000          0.0   \n",
       "66  House / apartment  ...         100.000000    100.000000          0.0   \n",
       "\n",
       "    90_excellent  80_excellent  70_excellent  75_excellent  70_good 80_good  \\\n",
       "0              0             1             1             1        1       1   \n",
       "16             0             1             1             1        1       1   \n",
       "31             0             0             1             1        1       1   \n",
       "61             0             0             0             0        1       1   \n",
       "66             1             1             1             1        1       1   \n",
       "\n",
       "    90_good  \n",
       "0         1  \n",
       "16        1  \n",
       "31        1  \n",
       "61        1  \n",
       "66        1  \n",
       "\n",
       "[5 rows x 36 columns]"
      ]
     },
     "execution_count": 44,
     "metadata": {},
     "output_type": "execute_result"
    }
   ],
   "source": [
    "df.head()"
   ]
  },
  {
   "cell_type": "markdown",
   "id": "0aa14bf0-299c-48f2-a2b3-4284032221f6",
   "metadata": {},
   "source": [
    "Define columns for paying back more than 2 months late"
   ]
  },
  {
   "cell_type": "code",
   "execution_count": 46,
   "id": "91228a93-21f6-4e85-a7c7-3c5a2eb5b5f8",
   "metadata": {},
   "outputs": [],
   "source": [
    "df['5_bad'] = (df['bad_payback'] >= 5).astype(int)"
   ]
  },
  {
   "cell_type": "code",
   "execution_count": 47,
   "id": "3cb44ac8-8c35-4595-8fb8-1e4753e04467",
   "metadata": {},
   "outputs": [
    {
     "data": {
      "text/html": [
       "<div>\n",
       "<style scoped>\n",
       "    .dataframe tbody tr th:only-of-type {\n",
       "        vertical-align: middle;\n",
       "    }\n",
       "\n",
       "    .dataframe tbody tr th {\n",
       "        vertical-align: top;\n",
       "    }\n",
       "\n",
       "    .dataframe thead th {\n",
       "        text-align: right;\n",
       "    }\n",
       "</style>\n",
       "<table border=\"1\" class=\"dataframe\">\n",
       "  <thead>\n",
       "    <tr style=\"text-align: right;\">\n",
       "      <th></th>\n",
       "      <th>id</th>\n",
       "      <th>gender</th>\n",
       "      <th>car_owned</th>\n",
       "      <th>realty_owned</th>\n",
       "      <th>children</th>\n",
       "      <th>income</th>\n",
       "      <th>employment_type</th>\n",
       "      <th>education</th>\n",
       "      <th>marital_status</th>\n",
       "      <th>housing</th>\n",
       "      <th>...</th>\n",
       "      <th>good_payback</th>\n",
       "      <th>bad_payback</th>\n",
       "      <th>90_excellent</th>\n",
       "      <th>80_excellent</th>\n",
       "      <th>70_excellent</th>\n",
       "      <th>75_excellent</th>\n",
       "      <th>70_good</th>\n",
       "      <th>80_good</th>\n",
       "      <th>90_good</th>\n",
       "      <th>5_bad</th>\n",
       "    </tr>\n",
       "  </thead>\n",
       "  <tbody>\n",
       "    <tr>\n",
       "      <th>0</th>\n",
       "      <td>5008804</td>\n",
       "      <td>M</td>\n",
       "      <td>Y</td>\n",
       "      <td>Y</td>\n",
       "      <td>0</td>\n",
       "      <td>427500.0</td>\n",
       "      <td>Working</td>\n",
       "      <td>Higher education</td>\n",
       "      <td>Civil marriage</td>\n",
       "      <td>Rented apartment</td>\n",
       "      <td>...</td>\n",
       "      <td>93.750000</td>\n",
       "      <td>0.0</td>\n",
       "      <td>0</td>\n",
       "      <td>1</td>\n",
       "      <td>1</td>\n",
       "      <td>1</td>\n",
       "      <td>1</td>\n",
       "      <td>1</td>\n",
       "      <td>1</td>\n",
       "      <td>0</td>\n",
       "    </tr>\n",
       "    <tr>\n",
       "      <th>16</th>\n",
       "      <td>5008805</td>\n",
       "      <td>M</td>\n",
       "      <td>Y</td>\n",
       "      <td>Y</td>\n",
       "      <td>0</td>\n",
       "      <td>427500.0</td>\n",
       "      <td>Working</td>\n",
       "      <td>Higher education</td>\n",
       "      <td>Civil marriage</td>\n",
       "      <td>Rented apartment</td>\n",
       "      <td>...</td>\n",
       "      <td>93.333333</td>\n",
       "      <td>0.0</td>\n",
       "      <td>0</td>\n",
       "      <td>1</td>\n",
       "      <td>1</td>\n",
       "      <td>1</td>\n",
       "      <td>1</td>\n",
       "      <td>1</td>\n",
       "      <td>1</td>\n",
       "      <td>0</td>\n",
       "    </tr>\n",
       "    <tr>\n",
       "      <th>31</th>\n",
       "      <td>5008806</td>\n",
       "      <td>M</td>\n",
       "      <td>Y</td>\n",
       "      <td>Y</td>\n",
       "      <td>0</td>\n",
       "      <td>112500.0</td>\n",
       "      <td>Working</td>\n",
       "      <td>Secondary / secondary special</td>\n",
       "      <td>Married</td>\n",
       "      <td>House / apartment</td>\n",
       "      <td>...</td>\n",
       "      <td>100.000000</td>\n",
       "      <td>0.0</td>\n",
       "      <td>0</td>\n",
       "      <td>0</td>\n",
       "      <td>1</td>\n",
       "      <td>1</td>\n",
       "      <td>1</td>\n",
       "      <td>1</td>\n",
       "      <td>1</td>\n",
       "      <td>0</td>\n",
       "    </tr>\n",
       "    <tr>\n",
       "      <th>61</th>\n",
       "      <td>5008808</td>\n",
       "      <td>F</td>\n",
       "      <td>N</td>\n",
       "      <td>Y</td>\n",
       "      <td>0</td>\n",
       "      <td>270000.0</td>\n",
       "      <td>Commercial associate</td>\n",
       "      <td>Secondary / secondary special</td>\n",
       "      <td>Single / not married</td>\n",
       "      <td>House / apartment</td>\n",
       "      <td>...</td>\n",
       "      <td>100.000000</td>\n",
       "      <td>0.0</td>\n",
       "      <td>0</td>\n",
       "      <td>0</td>\n",
       "      <td>0</td>\n",
       "      <td>0</td>\n",
       "      <td>1</td>\n",
       "      <td>1</td>\n",
       "      <td>1</td>\n",
       "      <td>0</td>\n",
       "    </tr>\n",
       "    <tr>\n",
       "      <th>66</th>\n",
       "      <td>5008809</td>\n",
       "      <td>F</td>\n",
       "      <td>N</td>\n",
       "      <td>Y</td>\n",
       "      <td>0</td>\n",
       "      <td>270000.0</td>\n",
       "      <td>Commercial associate</td>\n",
       "      <td>Secondary / secondary special</td>\n",
       "      <td>Single / not married</td>\n",
       "      <td>House / apartment</td>\n",
       "      <td>...</td>\n",
       "      <td>100.000000</td>\n",
       "      <td>0.0</td>\n",
       "      <td>1</td>\n",
       "      <td>1</td>\n",
       "      <td>1</td>\n",
       "      <td>1</td>\n",
       "      <td>1</td>\n",
       "      <td>1</td>\n",
       "      <td>1</td>\n",
       "      <td>0</td>\n",
       "    </tr>\n",
       "  </tbody>\n",
       "</table>\n",
       "<p>5 rows × 37 columns</p>\n",
       "</div>"
      ],
      "text/plain": [
       "         id gender car_owned realty_owned  children    income  \\\n",
       "0   5008804      M         Y            Y         0  427500.0   \n",
       "16  5008805      M         Y            Y         0  427500.0   \n",
       "31  5008806      M         Y            Y         0  112500.0   \n",
       "61  5008808      F         N            Y         0  270000.0   \n",
       "66  5008809      F         N            Y         0  270000.0   \n",
       "\n",
       "         employment_type                      education        marital_status  \\\n",
       "0                Working               Higher education        Civil marriage   \n",
       "16               Working               Higher education        Civil marriage   \n",
       "31               Working  Secondary / secondary special               Married   \n",
       "61  Commercial associate  Secondary / secondary special  Single / not married   \n",
       "66  Commercial associate  Secondary / secondary special  Single / not married   \n",
       "\n",
       "              housing  ...  good_payback  bad_payback  90_excellent  \\\n",
       "0    Rented apartment  ...     93.750000          0.0             0   \n",
       "16   Rented apartment  ...     93.333333          0.0             0   \n",
       "31  House / apartment  ...    100.000000          0.0             0   \n",
       "61  House / apartment  ...    100.000000          0.0             0   \n",
       "66  House / apartment  ...    100.000000          0.0             1   \n",
       "\n",
       "    80_excellent  70_excellent  75_excellent  70_good  80_good 90_good  5_bad  \n",
       "0              1             1             1        1        1       1      0  \n",
       "16             1             1             1        1        1       1      0  \n",
       "31             0             1             1        1        1       1      0  \n",
       "61             0             0             0        1        1       1      0  \n",
       "66             1             1             1        1        1       1      0  \n",
       "\n",
       "[5 rows x 37 columns]"
      ]
     },
     "execution_count": 47,
     "metadata": {},
     "output_type": "execute_result"
    }
   ],
   "source": [
    "df.head()"
   ]
  },
  {
   "cell_type": "markdown",
   "id": "461d51b2-b0bd-481b-9cbe-f18500a1ef7a",
   "metadata": {},
   "source": [
    "Change categorical columns into numerical values"
   ]
  },
  {
   "cell_type": "code",
   "execution_count": 49,
   "id": "e78cfe1c-3b01-46a0-8547-2c1bb04f2945",
   "metadata": {},
   "outputs": [
    {
     "name": "stderr",
     "output_type": "stream",
     "text": [
      "/var/folders/3t/3gmrvyjs72x2r_tz1k2gjfpc0000gn/T/ipykernel_78504/1424478344.py:1: FutureWarning: Downcasting behavior in `replace` is deprecated and will be removed in a future version. To retain the old behavior, explicitly call `result.infer_objects(copy=False)`. To opt-in to the future behavior, set `pd.set_option('future.no_silent_downcasting', True)`\n",
      "  df['car_owned'] = df['car_owned'].replace({'Y': 1, 'N': 0})\n",
      "/var/folders/3t/3gmrvyjs72x2r_tz1k2gjfpc0000gn/T/ipykernel_78504/1424478344.py:2: FutureWarning: Downcasting behavior in `replace` is deprecated and will be removed in a future version. To retain the old behavior, explicitly call `result.infer_objects(copy=False)`. To opt-in to the future behavior, set `pd.set_option('future.no_silent_downcasting', True)`\n",
      "  df['realty_owned'] = df['realty_owned'].replace({'Y':1, 'N': 0})\n"
     ]
    }
   ],
   "source": [
    "df['car_owned'] = df['car_owned'].replace({'Y': 1, 'N': 0})\n",
    "df['realty_owned'] = df['realty_owned'].replace({'Y':1, 'N': 0})"
   ]
  },
  {
   "cell_type": "code",
   "execution_count": 50,
   "id": "aafc25fb-f3a4-4ac1-93b7-c607784db327",
   "metadata": {},
   "outputs": [
    {
     "data": {
      "text/html": [
       "<div>\n",
       "<style scoped>\n",
       "    .dataframe tbody tr th:only-of-type {\n",
       "        vertical-align: middle;\n",
       "    }\n",
       "\n",
       "    .dataframe tbody tr th {\n",
       "        vertical-align: top;\n",
       "    }\n",
       "\n",
       "    .dataframe thead th {\n",
       "        text-align: right;\n",
       "    }\n",
       "</style>\n",
       "<table border=\"1\" class=\"dataframe\">\n",
       "  <thead>\n",
       "    <tr style=\"text-align: right;\">\n",
       "      <th></th>\n",
       "      <th>id</th>\n",
       "      <th>gender</th>\n",
       "      <th>car_owned</th>\n",
       "      <th>realty_owned</th>\n",
       "      <th>children</th>\n",
       "      <th>income</th>\n",
       "      <th>employment_type</th>\n",
       "      <th>education</th>\n",
       "      <th>marital_status</th>\n",
       "      <th>housing</th>\n",
       "      <th>...</th>\n",
       "      <th>good_payback</th>\n",
       "      <th>bad_payback</th>\n",
       "      <th>90_excellent</th>\n",
       "      <th>80_excellent</th>\n",
       "      <th>70_excellent</th>\n",
       "      <th>75_excellent</th>\n",
       "      <th>70_good</th>\n",
       "      <th>80_good</th>\n",
       "      <th>90_good</th>\n",
       "      <th>5_bad</th>\n",
       "    </tr>\n",
       "  </thead>\n",
       "  <tbody>\n",
       "    <tr>\n",
       "      <th>0</th>\n",
       "      <td>5008804</td>\n",
       "      <td>M</td>\n",
       "      <td>1</td>\n",
       "      <td>1</td>\n",
       "      <td>0</td>\n",
       "      <td>427500.0</td>\n",
       "      <td>Working</td>\n",
       "      <td>Higher education</td>\n",
       "      <td>Civil marriage</td>\n",
       "      <td>Rented apartment</td>\n",
       "      <td>...</td>\n",
       "      <td>93.750000</td>\n",
       "      <td>0.0</td>\n",
       "      <td>0</td>\n",
       "      <td>1</td>\n",
       "      <td>1</td>\n",
       "      <td>1</td>\n",
       "      <td>1</td>\n",
       "      <td>1</td>\n",
       "      <td>1</td>\n",
       "      <td>0</td>\n",
       "    </tr>\n",
       "    <tr>\n",
       "      <th>16</th>\n",
       "      <td>5008805</td>\n",
       "      <td>M</td>\n",
       "      <td>1</td>\n",
       "      <td>1</td>\n",
       "      <td>0</td>\n",
       "      <td>427500.0</td>\n",
       "      <td>Working</td>\n",
       "      <td>Higher education</td>\n",
       "      <td>Civil marriage</td>\n",
       "      <td>Rented apartment</td>\n",
       "      <td>...</td>\n",
       "      <td>93.333333</td>\n",
       "      <td>0.0</td>\n",
       "      <td>0</td>\n",
       "      <td>1</td>\n",
       "      <td>1</td>\n",
       "      <td>1</td>\n",
       "      <td>1</td>\n",
       "      <td>1</td>\n",
       "      <td>1</td>\n",
       "      <td>0</td>\n",
       "    </tr>\n",
       "    <tr>\n",
       "      <th>31</th>\n",
       "      <td>5008806</td>\n",
       "      <td>M</td>\n",
       "      <td>1</td>\n",
       "      <td>1</td>\n",
       "      <td>0</td>\n",
       "      <td>112500.0</td>\n",
       "      <td>Working</td>\n",
       "      <td>Secondary / secondary special</td>\n",
       "      <td>Married</td>\n",
       "      <td>House / apartment</td>\n",
       "      <td>...</td>\n",
       "      <td>100.000000</td>\n",
       "      <td>0.0</td>\n",
       "      <td>0</td>\n",
       "      <td>0</td>\n",
       "      <td>1</td>\n",
       "      <td>1</td>\n",
       "      <td>1</td>\n",
       "      <td>1</td>\n",
       "      <td>1</td>\n",
       "      <td>0</td>\n",
       "    </tr>\n",
       "    <tr>\n",
       "      <th>61</th>\n",
       "      <td>5008808</td>\n",
       "      <td>F</td>\n",
       "      <td>0</td>\n",
       "      <td>1</td>\n",
       "      <td>0</td>\n",
       "      <td>270000.0</td>\n",
       "      <td>Commercial associate</td>\n",
       "      <td>Secondary / secondary special</td>\n",
       "      <td>Single / not married</td>\n",
       "      <td>House / apartment</td>\n",
       "      <td>...</td>\n",
       "      <td>100.000000</td>\n",
       "      <td>0.0</td>\n",
       "      <td>0</td>\n",
       "      <td>0</td>\n",
       "      <td>0</td>\n",
       "      <td>0</td>\n",
       "      <td>1</td>\n",
       "      <td>1</td>\n",
       "      <td>1</td>\n",
       "      <td>0</td>\n",
       "    </tr>\n",
       "    <tr>\n",
       "      <th>66</th>\n",
       "      <td>5008809</td>\n",
       "      <td>F</td>\n",
       "      <td>0</td>\n",
       "      <td>1</td>\n",
       "      <td>0</td>\n",
       "      <td>270000.0</td>\n",
       "      <td>Commercial associate</td>\n",
       "      <td>Secondary / secondary special</td>\n",
       "      <td>Single / not married</td>\n",
       "      <td>House / apartment</td>\n",
       "      <td>...</td>\n",
       "      <td>100.000000</td>\n",
       "      <td>0.0</td>\n",
       "      <td>1</td>\n",
       "      <td>1</td>\n",
       "      <td>1</td>\n",
       "      <td>1</td>\n",
       "      <td>1</td>\n",
       "      <td>1</td>\n",
       "      <td>1</td>\n",
       "      <td>0</td>\n",
       "    </tr>\n",
       "  </tbody>\n",
       "</table>\n",
       "<p>5 rows × 37 columns</p>\n",
       "</div>"
      ],
      "text/plain": [
       "         id gender  car_owned  realty_owned  children    income  \\\n",
       "0   5008804      M          1             1         0  427500.0   \n",
       "16  5008805      M          1             1         0  427500.0   \n",
       "31  5008806      M          1             1         0  112500.0   \n",
       "61  5008808      F          0             1         0  270000.0   \n",
       "66  5008809      F          0             1         0  270000.0   \n",
       "\n",
       "         employment_type                      education        marital_status  \\\n",
       "0                Working               Higher education        Civil marriage   \n",
       "16               Working               Higher education        Civil marriage   \n",
       "31               Working  Secondary / secondary special               Married   \n",
       "61  Commercial associate  Secondary / secondary special  Single / not married   \n",
       "66  Commercial associate  Secondary / secondary special  Single / not married   \n",
       "\n",
       "              housing  ...  good_payback  bad_payback  90_excellent  \\\n",
       "0    Rented apartment  ...     93.750000          0.0             0   \n",
       "16   Rented apartment  ...     93.333333          0.0             0   \n",
       "31  House / apartment  ...    100.000000          0.0             0   \n",
       "61  House / apartment  ...    100.000000          0.0             0   \n",
       "66  House / apartment  ...    100.000000          0.0             1   \n",
       "\n",
       "    80_excellent  70_excellent  75_excellent  70_good  80_good 90_good  5_bad  \n",
       "0              1             1             1        1        1       1      0  \n",
       "16             1             1             1        1        1       1      0  \n",
       "31             0             1             1        1        1       1      0  \n",
       "61             0             0             0        1        1       1      0  \n",
       "66             1             1             1        1        1       1      0  \n",
       "\n",
       "[5 rows x 37 columns]"
      ]
     },
     "execution_count": 50,
     "metadata": {},
     "output_type": "execute_result"
    }
   ],
   "source": [
    "df.head()"
   ]
  },
  {
   "cell_type": "code",
   "execution_count": 51,
   "id": "57e7ba10-3a35-492b-8638-c56b6fc71a85",
   "metadata": {},
   "outputs": [
    {
     "name": "stderr",
     "output_type": "stream",
     "text": [
      "/var/folders/3t/3gmrvyjs72x2r_tz1k2gjfpc0000gn/T/ipykernel_78504/2782236293.py:1: FutureWarning: Downcasting behavior in `replace` is deprecated and will be removed in a future version. To retain the old behavior, explicitly call `result.infer_objects(copy=False)`. To opt-in to the future behavior, set `pd.set_option('future.no_silent_downcasting', True)`\n",
      "  df['is_female'] = df['gender'].replace({'F':1, 'M': 0})\n"
     ]
    }
   ],
   "source": [
    "df['is_female'] = df['gender'].replace({'F':1, 'M': 0})"
   ]
  },
  {
   "cell_type": "code",
   "execution_count": 52,
   "id": "5b7c261e-af0b-4476-8897-bda7b7af3a76",
   "metadata": {},
   "outputs": [],
   "source": [
    "df = df.drop(columns=['gender'])"
   ]
  },
  {
   "cell_type": "markdown",
   "id": "417e4a18-e0c0-4a8a-bbfb-263db3c672bb",
   "metadata": {},
   "source": [
    "## OneHotEncoder"
   ]
  },
  {
   "cell_type": "markdown",
   "id": "188d7f57-d91f-49a6-947b-11524737b997",
   "metadata": {},
   "source": [
    "Use OneHotEncoder for columns with more than one categorical value"
   ]
  },
  {
   "cell_type": "code",
   "execution_count": 55,
   "id": "ae25a98e-4702-4d80-96ca-ea4fe6d54efb",
   "metadata": {},
   "outputs": [
    {
     "data": {
      "text/plain": [
       "Index(['id', 'car_owned', 'realty_owned', 'children', 'income',\n",
       "       'employment_type', 'education', 'marital_status', 'housing',\n",
       "       'phone_owned', 'work_phone_owned', 'mobile_phone_owned', 'email_owned',\n",
       "       'family_size', 'age', 'years_employed', 'months_balance',\n",
       "       'credit_status', 'status_excellent', 'status_good', 'status_bad',\n",
       "       'total_records', 'total_on_payments_ex', 'total_on_payments_good',\n",
       "       'total_on_payments_bad', 'excellent_payback', 'good_payback',\n",
       "       'bad_payback', '90_excellent', '80_excellent', '70_excellent',\n",
       "       '75_excellent', '70_good', '80_good', '90_good', '5_bad', 'is_female'],\n",
       "      dtype='object')"
      ]
     },
     "execution_count": 55,
     "metadata": {},
     "output_type": "execute_result"
    }
   ],
   "source": [
    "df.columns"
   ]
  },
  {
   "cell_type": "code",
   "execution_count": 56,
   "id": "a939a7ee-8c6d-4eb7-a84b-c0d80e9c2a23",
   "metadata": {},
   "outputs": [
    {
     "data": {
      "text/plain": [
       "array(['Higher education', 'Secondary / secondary special',\n",
       "       'Incomplete higher', 'Lower secondary', 'Academic degree'],\n",
       "      dtype=object)"
      ]
     },
     "execution_count": 56,
     "metadata": {},
     "output_type": "execute_result"
    }
   ],
   "source": [
    "df['education'].unique()"
   ]
  },
  {
   "cell_type": "code",
   "execution_count": 57,
   "id": "c5d32e8b-1529-4843-84bc-37d9488e77e5",
   "metadata": {},
   "outputs": [
    {
     "data": {
      "text/plain": [
       "array(['Civil marriage', 'Married', 'Single / not married', 'Separated',\n",
       "       'Widow'], dtype=object)"
      ]
     },
     "execution_count": 57,
     "metadata": {},
     "output_type": "execute_result"
    }
   ],
   "source": [
    "df['marital_status'].unique()"
   ]
  },
  {
   "cell_type": "code",
   "execution_count": 58,
   "id": "a6843baa-b821-4d00-a322-01cb26f3ab8f",
   "metadata": {},
   "outputs": [],
   "source": [
    "housing_type = {'House / apartment' : 'House / apartment',\n",
    "                   'With parents': 'With parents',\n",
    "                    'Municipal apartment' : 'House / apartment',\n",
    "                    'Rented apartment': 'House / apartment',\n",
    "                    'Office apartment': 'House / apartment',\n",
    "                    'Co-op apartment': 'House / apartment'}\n",
    "\n",
    "df[\"housing\"] = df['housing'].map(housing_type)\n",
    "\n",
    "family_status = {'Single / not married':'Single',\n",
    "                     'Separated':'Single',\n",
    "                     'Widow':'Single',\n",
    "                     'Civil marriage':'Married',\n",
    "                    'Married':'Married'}\n",
    "\n",
    "df[\"marital_status\"] = df[\"marital_status\"].map(family_status)\n",
    "\n",
    "education_type = {'Secondary / secondary special':'Secondary',\n",
    "                     'Lower secondary':'Secondary',\n",
    "                     'Higher education':'Higher education',\n",
    "                     'Incomplete higher':'Higher education',\n",
    "                     'Academic degree':'Academic degree'}\n",
    "\n",
    "df[\"education\"] = df[\"education\"].map(education_type)\n",
    "\n",
    "income_type = {'Commercial associate':'Working',\n",
    "                  'State servant':'Working',\n",
    "                  'Working':'Working',\n",
    "                  'Pensioner':'Pensioner',\n",
    "                  'Student':'Student'}\n",
    "\n",
    "df[\"employment_type\"] = df[\"employment_type\"].map(income_type)"
   ]
  },
  {
   "cell_type": "code",
   "execution_count": 59,
   "id": "9bf5f0ac-894d-419d-8487-480cc6acbd53",
   "metadata": {},
   "outputs": [
    {
     "data": {
      "text/html": [
       "<div>\n",
       "<style scoped>\n",
       "    .dataframe tbody tr th:only-of-type {\n",
       "        vertical-align: middle;\n",
       "    }\n",
       "\n",
       "    .dataframe tbody tr th {\n",
       "        vertical-align: top;\n",
       "    }\n",
       "\n",
       "    .dataframe thead th {\n",
       "        text-align: right;\n",
       "    }\n",
       "</style>\n",
       "<table border=\"1\" class=\"dataframe\">\n",
       "  <thead>\n",
       "    <tr style=\"text-align: right;\">\n",
       "      <th></th>\n",
       "      <th>id</th>\n",
       "      <th>car_owned</th>\n",
       "      <th>realty_owned</th>\n",
       "      <th>children</th>\n",
       "      <th>income</th>\n",
       "      <th>employment_type</th>\n",
       "      <th>education</th>\n",
       "      <th>marital_status</th>\n",
       "      <th>housing</th>\n",
       "      <th>phone_owned</th>\n",
       "      <th>...</th>\n",
       "      <th>bad_payback</th>\n",
       "      <th>90_excellent</th>\n",
       "      <th>80_excellent</th>\n",
       "      <th>70_excellent</th>\n",
       "      <th>75_excellent</th>\n",
       "      <th>70_good</th>\n",
       "      <th>80_good</th>\n",
       "      <th>90_good</th>\n",
       "      <th>5_bad</th>\n",
       "      <th>is_female</th>\n",
       "    </tr>\n",
       "  </thead>\n",
       "  <tbody>\n",
       "    <tr>\n",
       "      <th>0</th>\n",
       "      <td>5008804</td>\n",
       "      <td>1</td>\n",
       "      <td>1</td>\n",
       "      <td>0</td>\n",
       "      <td>427500.0</td>\n",
       "      <td>Working</td>\n",
       "      <td>Higher education</td>\n",
       "      <td>Married</td>\n",
       "      <td>House / apartment</td>\n",
       "      <td>1</td>\n",
       "      <td>...</td>\n",
       "      <td>0.0</td>\n",
       "      <td>0</td>\n",
       "      <td>1</td>\n",
       "      <td>1</td>\n",
       "      <td>1</td>\n",
       "      <td>1</td>\n",
       "      <td>1</td>\n",
       "      <td>1</td>\n",
       "      <td>0</td>\n",
       "      <td>0</td>\n",
       "    </tr>\n",
       "    <tr>\n",
       "      <th>16</th>\n",
       "      <td>5008805</td>\n",
       "      <td>1</td>\n",
       "      <td>1</td>\n",
       "      <td>0</td>\n",
       "      <td>427500.0</td>\n",
       "      <td>Working</td>\n",
       "      <td>Higher education</td>\n",
       "      <td>Married</td>\n",
       "      <td>House / apartment</td>\n",
       "      <td>1</td>\n",
       "      <td>...</td>\n",
       "      <td>0.0</td>\n",
       "      <td>0</td>\n",
       "      <td>1</td>\n",
       "      <td>1</td>\n",
       "      <td>1</td>\n",
       "      <td>1</td>\n",
       "      <td>1</td>\n",
       "      <td>1</td>\n",
       "      <td>0</td>\n",
       "      <td>0</td>\n",
       "    </tr>\n",
       "    <tr>\n",
       "      <th>31</th>\n",
       "      <td>5008806</td>\n",
       "      <td>1</td>\n",
       "      <td>1</td>\n",
       "      <td>0</td>\n",
       "      <td>112500.0</td>\n",
       "      <td>Working</td>\n",
       "      <td>Secondary</td>\n",
       "      <td>Married</td>\n",
       "      <td>House / apartment</td>\n",
       "      <td>1</td>\n",
       "      <td>...</td>\n",
       "      <td>0.0</td>\n",
       "      <td>0</td>\n",
       "      <td>0</td>\n",
       "      <td>1</td>\n",
       "      <td>1</td>\n",
       "      <td>1</td>\n",
       "      <td>1</td>\n",
       "      <td>1</td>\n",
       "      <td>0</td>\n",
       "      <td>0</td>\n",
       "    </tr>\n",
       "    <tr>\n",
       "      <th>61</th>\n",
       "      <td>5008808</td>\n",
       "      <td>0</td>\n",
       "      <td>1</td>\n",
       "      <td>0</td>\n",
       "      <td>270000.0</td>\n",
       "      <td>Working</td>\n",
       "      <td>Secondary</td>\n",
       "      <td>Single</td>\n",
       "      <td>House / apartment</td>\n",
       "      <td>1</td>\n",
       "      <td>...</td>\n",
       "      <td>0.0</td>\n",
       "      <td>0</td>\n",
       "      <td>0</td>\n",
       "      <td>0</td>\n",
       "      <td>0</td>\n",
       "      <td>1</td>\n",
       "      <td>1</td>\n",
       "      <td>1</td>\n",
       "      <td>0</td>\n",
       "      <td>1</td>\n",
       "    </tr>\n",
       "    <tr>\n",
       "      <th>66</th>\n",
       "      <td>5008809</td>\n",
       "      <td>0</td>\n",
       "      <td>1</td>\n",
       "      <td>0</td>\n",
       "      <td>270000.0</td>\n",
       "      <td>Working</td>\n",
       "      <td>Secondary</td>\n",
       "      <td>Single</td>\n",
       "      <td>House / apartment</td>\n",
       "      <td>1</td>\n",
       "      <td>...</td>\n",
       "      <td>0.0</td>\n",
       "      <td>1</td>\n",
       "      <td>1</td>\n",
       "      <td>1</td>\n",
       "      <td>1</td>\n",
       "      <td>1</td>\n",
       "      <td>1</td>\n",
       "      <td>1</td>\n",
       "      <td>0</td>\n",
       "      <td>1</td>\n",
       "    </tr>\n",
       "  </tbody>\n",
       "</table>\n",
       "<p>5 rows × 37 columns</p>\n",
       "</div>"
      ],
      "text/plain": [
       "         id  car_owned  realty_owned  children    income employment_type  \\\n",
       "0   5008804          1             1         0  427500.0         Working   \n",
       "16  5008805          1             1         0  427500.0         Working   \n",
       "31  5008806          1             1         0  112500.0         Working   \n",
       "61  5008808          0             1         0  270000.0         Working   \n",
       "66  5008809          0             1         0  270000.0         Working   \n",
       "\n",
       "           education marital_status            housing  phone_owned  ...  \\\n",
       "0   Higher education        Married  House / apartment            1  ...   \n",
       "16  Higher education        Married  House / apartment            1  ...   \n",
       "31         Secondary        Married  House / apartment            1  ...   \n",
       "61         Secondary         Single  House / apartment            1  ...   \n",
       "66         Secondary         Single  House / apartment            1  ...   \n",
       "\n",
       "    bad_payback  90_excellent  80_excellent  70_excellent  75_excellent  \\\n",
       "0           0.0             0             1             1             1   \n",
       "16          0.0             0             1             1             1   \n",
       "31          0.0             0             0             1             1   \n",
       "61          0.0             0             0             0             0   \n",
       "66          0.0             1             1             1             1   \n",
       "\n",
       "    70_good  80_good 90_good  5_bad  is_female  \n",
       "0         1        1       1      0          0  \n",
       "16        1        1       1      0          0  \n",
       "31        1        1       1      0          0  \n",
       "61        1        1       1      0          1  \n",
       "66        1        1       1      0          1  \n",
       "\n",
       "[5 rows x 37 columns]"
      ]
     },
     "execution_count": 59,
     "metadata": {},
     "output_type": "execute_result"
    }
   ],
   "source": [
    "df.head()"
   ]
  },
  {
   "cell_type": "code",
   "execution_count": 60,
   "id": "0b943092-5f3c-450e-a528-6281034099c5",
   "metadata": {},
   "outputs": [],
   "source": [
    "from sklearn.preprocessing import OneHotEncoder"
   ]
  },
  {
   "cell_type": "markdown",
   "id": "ac955794-cd8e-46fb-9eb6-2cc88076c601",
   "metadata": {},
   "source": [
    "Education category"
   ]
  },
  {
   "cell_type": "code",
   "execution_count": 62,
   "id": "953c57f9-c90c-44cf-8e65-ace113495bfe",
   "metadata": {},
   "outputs": [],
   "source": [
    "oh_education = OneHotEncoder(sparse_output=False)\n",
    "oh_education.fit(df[['education']])\n",
    "df[df['education'].unique()] = oh_education.transform(df[['education']])"
   ]
  },
  {
   "cell_type": "code",
   "execution_count": 63,
   "id": "16dd39c4-d163-4e3b-880f-8eb9e78463ac",
   "metadata": {},
   "outputs": [
    {
     "data": {
      "text/html": [
       "<div>\n",
       "<style scoped>\n",
       "    .dataframe tbody tr th:only-of-type {\n",
       "        vertical-align: middle;\n",
       "    }\n",
       "\n",
       "    .dataframe tbody tr th {\n",
       "        vertical-align: top;\n",
       "    }\n",
       "\n",
       "    .dataframe thead th {\n",
       "        text-align: right;\n",
       "    }\n",
       "</style>\n",
       "<table border=\"1\" class=\"dataframe\">\n",
       "  <thead>\n",
       "    <tr style=\"text-align: right;\">\n",
       "      <th></th>\n",
       "      <th>id</th>\n",
       "      <th>car_owned</th>\n",
       "      <th>realty_owned</th>\n",
       "      <th>children</th>\n",
       "      <th>income</th>\n",
       "      <th>employment_type</th>\n",
       "      <th>education</th>\n",
       "      <th>marital_status</th>\n",
       "      <th>housing</th>\n",
       "      <th>phone_owned</th>\n",
       "      <th>...</th>\n",
       "      <th>70_excellent</th>\n",
       "      <th>75_excellent</th>\n",
       "      <th>70_good</th>\n",
       "      <th>80_good</th>\n",
       "      <th>90_good</th>\n",
       "      <th>5_bad</th>\n",
       "      <th>is_female</th>\n",
       "      <th>Higher education</th>\n",
       "      <th>Secondary</th>\n",
       "      <th>Academic degree</th>\n",
       "    </tr>\n",
       "  </thead>\n",
       "  <tbody>\n",
       "    <tr>\n",
       "      <th>0</th>\n",
       "      <td>5008804</td>\n",
       "      <td>1</td>\n",
       "      <td>1</td>\n",
       "      <td>0</td>\n",
       "      <td>427500.0</td>\n",
       "      <td>Working</td>\n",
       "      <td>Higher education</td>\n",
       "      <td>Married</td>\n",
       "      <td>House / apartment</td>\n",
       "      <td>1</td>\n",
       "      <td>...</td>\n",
       "      <td>1</td>\n",
       "      <td>1</td>\n",
       "      <td>1</td>\n",
       "      <td>1</td>\n",
       "      <td>1</td>\n",
       "      <td>0</td>\n",
       "      <td>0</td>\n",
       "      <td>0.0</td>\n",
       "      <td>1.0</td>\n",
       "      <td>0.0</td>\n",
       "    </tr>\n",
       "    <tr>\n",
       "      <th>16</th>\n",
       "      <td>5008805</td>\n",
       "      <td>1</td>\n",
       "      <td>1</td>\n",
       "      <td>0</td>\n",
       "      <td>427500.0</td>\n",
       "      <td>Working</td>\n",
       "      <td>Higher education</td>\n",
       "      <td>Married</td>\n",
       "      <td>House / apartment</td>\n",
       "      <td>1</td>\n",
       "      <td>...</td>\n",
       "      <td>1</td>\n",
       "      <td>1</td>\n",
       "      <td>1</td>\n",
       "      <td>1</td>\n",
       "      <td>1</td>\n",
       "      <td>0</td>\n",
       "      <td>0</td>\n",
       "      <td>0.0</td>\n",
       "      <td>1.0</td>\n",
       "      <td>0.0</td>\n",
       "    </tr>\n",
       "    <tr>\n",
       "      <th>31</th>\n",
       "      <td>5008806</td>\n",
       "      <td>1</td>\n",
       "      <td>1</td>\n",
       "      <td>0</td>\n",
       "      <td>112500.0</td>\n",
       "      <td>Working</td>\n",
       "      <td>Secondary</td>\n",
       "      <td>Married</td>\n",
       "      <td>House / apartment</td>\n",
       "      <td>1</td>\n",
       "      <td>...</td>\n",
       "      <td>1</td>\n",
       "      <td>1</td>\n",
       "      <td>1</td>\n",
       "      <td>1</td>\n",
       "      <td>1</td>\n",
       "      <td>0</td>\n",
       "      <td>0</td>\n",
       "      <td>0.0</td>\n",
       "      <td>0.0</td>\n",
       "      <td>1.0</td>\n",
       "    </tr>\n",
       "    <tr>\n",
       "      <th>61</th>\n",
       "      <td>5008808</td>\n",
       "      <td>0</td>\n",
       "      <td>1</td>\n",
       "      <td>0</td>\n",
       "      <td>270000.0</td>\n",
       "      <td>Working</td>\n",
       "      <td>Secondary</td>\n",
       "      <td>Single</td>\n",
       "      <td>House / apartment</td>\n",
       "      <td>1</td>\n",
       "      <td>...</td>\n",
       "      <td>0</td>\n",
       "      <td>0</td>\n",
       "      <td>1</td>\n",
       "      <td>1</td>\n",
       "      <td>1</td>\n",
       "      <td>0</td>\n",
       "      <td>1</td>\n",
       "      <td>0.0</td>\n",
       "      <td>0.0</td>\n",
       "      <td>1.0</td>\n",
       "    </tr>\n",
       "    <tr>\n",
       "      <th>66</th>\n",
       "      <td>5008809</td>\n",
       "      <td>0</td>\n",
       "      <td>1</td>\n",
       "      <td>0</td>\n",
       "      <td>270000.0</td>\n",
       "      <td>Working</td>\n",
       "      <td>Secondary</td>\n",
       "      <td>Single</td>\n",
       "      <td>House / apartment</td>\n",
       "      <td>1</td>\n",
       "      <td>...</td>\n",
       "      <td>1</td>\n",
       "      <td>1</td>\n",
       "      <td>1</td>\n",
       "      <td>1</td>\n",
       "      <td>1</td>\n",
       "      <td>0</td>\n",
       "      <td>1</td>\n",
       "      <td>0.0</td>\n",
       "      <td>0.0</td>\n",
       "      <td>1.0</td>\n",
       "    </tr>\n",
       "  </tbody>\n",
       "</table>\n",
       "<p>5 rows × 40 columns</p>\n",
       "</div>"
      ],
      "text/plain": [
       "         id  car_owned  realty_owned  children    income employment_type  \\\n",
       "0   5008804          1             1         0  427500.0         Working   \n",
       "16  5008805          1             1         0  427500.0         Working   \n",
       "31  5008806          1             1         0  112500.0         Working   \n",
       "61  5008808          0             1         0  270000.0         Working   \n",
       "66  5008809          0             1         0  270000.0         Working   \n",
       "\n",
       "           education marital_status            housing  phone_owned  ...  \\\n",
       "0   Higher education        Married  House / apartment            1  ...   \n",
       "16  Higher education        Married  House / apartment            1  ...   \n",
       "31         Secondary        Married  House / apartment            1  ...   \n",
       "61         Secondary         Single  House / apartment            1  ...   \n",
       "66         Secondary         Single  House / apartment            1  ...   \n",
       "\n",
       "    70_excellent  75_excellent  70_good  80_good  90_good  5_bad  is_female  \\\n",
       "0              1             1        1        1        1      0          0   \n",
       "16             1             1        1        1        1      0          0   \n",
       "31             1             1        1        1        1      0          0   \n",
       "61             0             0        1        1        1      0          1   \n",
       "66             1             1        1        1        1      0          1   \n",
       "\n",
       "   Higher education  Secondary  Academic degree  \n",
       "0               0.0        1.0              0.0  \n",
       "16              0.0        1.0              0.0  \n",
       "31              0.0        0.0              1.0  \n",
       "61              0.0        0.0              1.0  \n",
       "66              0.0        0.0              1.0  \n",
       "\n",
       "[5 rows x 40 columns]"
      ]
     },
     "execution_count": 63,
     "metadata": {},
     "output_type": "execute_result"
    }
   ],
   "source": [
    "df.head()"
   ]
  },
  {
   "cell_type": "markdown",
   "id": "9f9d674e-c786-48af-ac87-57cdc160d65a",
   "metadata": {},
   "source": [
    "Housing Status"
   ]
  },
  {
   "cell_type": "code",
   "execution_count": 65,
   "id": "a9286795-e4f4-469d-9606-89fbedcd12e7",
   "metadata": {},
   "outputs": [],
   "source": [
    "oh_housing = OneHotEncoder(sparse_output=False)\n",
    "oh_housing.fit(df[['housing']])\n",
    "df[df['housing'].unique()] = oh_housing.transform(df[['housing']])"
   ]
  },
  {
   "cell_type": "code",
   "execution_count": 66,
   "id": "c567fc23-a0c3-45b8-be9a-c78fe8145729",
   "metadata": {},
   "outputs": [
    {
     "data": {
      "text/html": [
       "<div>\n",
       "<style scoped>\n",
       "    .dataframe tbody tr th:only-of-type {\n",
       "        vertical-align: middle;\n",
       "    }\n",
       "\n",
       "    .dataframe tbody tr th {\n",
       "        vertical-align: top;\n",
       "    }\n",
       "\n",
       "    .dataframe thead th {\n",
       "        text-align: right;\n",
       "    }\n",
       "</style>\n",
       "<table border=\"1\" class=\"dataframe\">\n",
       "  <thead>\n",
       "    <tr style=\"text-align: right;\">\n",
       "      <th></th>\n",
       "      <th>id</th>\n",
       "      <th>car_owned</th>\n",
       "      <th>realty_owned</th>\n",
       "      <th>children</th>\n",
       "      <th>income</th>\n",
       "      <th>employment_type</th>\n",
       "      <th>education</th>\n",
       "      <th>marital_status</th>\n",
       "      <th>housing</th>\n",
       "      <th>phone_owned</th>\n",
       "      <th>...</th>\n",
       "      <th>70_good</th>\n",
       "      <th>80_good</th>\n",
       "      <th>90_good</th>\n",
       "      <th>5_bad</th>\n",
       "      <th>is_female</th>\n",
       "      <th>Higher education</th>\n",
       "      <th>Secondary</th>\n",
       "      <th>Academic degree</th>\n",
       "      <th>House / apartment</th>\n",
       "      <th>With parents</th>\n",
       "    </tr>\n",
       "  </thead>\n",
       "  <tbody>\n",
       "    <tr>\n",
       "      <th>0</th>\n",
       "      <td>5008804</td>\n",
       "      <td>1</td>\n",
       "      <td>1</td>\n",
       "      <td>0</td>\n",
       "      <td>427500.0</td>\n",
       "      <td>Working</td>\n",
       "      <td>Higher education</td>\n",
       "      <td>Married</td>\n",
       "      <td>House / apartment</td>\n",
       "      <td>1</td>\n",
       "      <td>...</td>\n",
       "      <td>1</td>\n",
       "      <td>1</td>\n",
       "      <td>1</td>\n",
       "      <td>0</td>\n",
       "      <td>0</td>\n",
       "      <td>0.0</td>\n",
       "      <td>1.0</td>\n",
       "      <td>0.0</td>\n",
       "      <td>1.0</td>\n",
       "      <td>0.0</td>\n",
       "    </tr>\n",
       "    <tr>\n",
       "      <th>16</th>\n",
       "      <td>5008805</td>\n",
       "      <td>1</td>\n",
       "      <td>1</td>\n",
       "      <td>0</td>\n",
       "      <td>427500.0</td>\n",
       "      <td>Working</td>\n",
       "      <td>Higher education</td>\n",
       "      <td>Married</td>\n",
       "      <td>House / apartment</td>\n",
       "      <td>1</td>\n",
       "      <td>...</td>\n",
       "      <td>1</td>\n",
       "      <td>1</td>\n",
       "      <td>1</td>\n",
       "      <td>0</td>\n",
       "      <td>0</td>\n",
       "      <td>0.0</td>\n",
       "      <td>1.0</td>\n",
       "      <td>0.0</td>\n",
       "      <td>1.0</td>\n",
       "      <td>0.0</td>\n",
       "    </tr>\n",
       "    <tr>\n",
       "      <th>31</th>\n",
       "      <td>5008806</td>\n",
       "      <td>1</td>\n",
       "      <td>1</td>\n",
       "      <td>0</td>\n",
       "      <td>112500.0</td>\n",
       "      <td>Working</td>\n",
       "      <td>Secondary</td>\n",
       "      <td>Married</td>\n",
       "      <td>House / apartment</td>\n",
       "      <td>1</td>\n",
       "      <td>...</td>\n",
       "      <td>1</td>\n",
       "      <td>1</td>\n",
       "      <td>1</td>\n",
       "      <td>0</td>\n",
       "      <td>0</td>\n",
       "      <td>0.0</td>\n",
       "      <td>0.0</td>\n",
       "      <td>1.0</td>\n",
       "      <td>1.0</td>\n",
       "      <td>0.0</td>\n",
       "    </tr>\n",
       "    <tr>\n",
       "      <th>61</th>\n",
       "      <td>5008808</td>\n",
       "      <td>0</td>\n",
       "      <td>1</td>\n",
       "      <td>0</td>\n",
       "      <td>270000.0</td>\n",
       "      <td>Working</td>\n",
       "      <td>Secondary</td>\n",
       "      <td>Single</td>\n",
       "      <td>House / apartment</td>\n",
       "      <td>1</td>\n",
       "      <td>...</td>\n",
       "      <td>1</td>\n",
       "      <td>1</td>\n",
       "      <td>1</td>\n",
       "      <td>0</td>\n",
       "      <td>1</td>\n",
       "      <td>0.0</td>\n",
       "      <td>0.0</td>\n",
       "      <td>1.0</td>\n",
       "      <td>1.0</td>\n",
       "      <td>0.0</td>\n",
       "    </tr>\n",
       "    <tr>\n",
       "      <th>66</th>\n",
       "      <td>5008809</td>\n",
       "      <td>0</td>\n",
       "      <td>1</td>\n",
       "      <td>0</td>\n",
       "      <td>270000.0</td>\n",
       "      <td>Working</td>\n",
       "      <td>Secondary</td>\n",
       "      <td>Single</td>\n",
       "      <td>House / apartment</td>\n",
       "      <td>1</td>\n",
       "      <td>...</td>\n",
       "      <td>1</td>\n",
       "      <td>1</td>\n",
       "      <td>1</td>\n",
       "      <td>0</td>\n",
       "      <td>1</td>\n",
       "      <td>0.0</td>\n",
       "      <td>0.0</td>\n",
       "      <td>1.0</td>\n",
       "      <td>1.0</td>\n",
       "      <td>0.0</td>\n",
       "    </tr>\n",
       "  </tbody>\n",
       "</table>\n",
       "<p>5 rows × 42 columns</p>\n",
       "</div>"
      ],
      "text/plain": [
       "         id  car_owned  realty_owned  children    income employment_type  \\\n",
       "0   5008804          1             1         0  427500.0         Working   \n",
       "16  5008805          1             1         0  427500.0         Working   \n",
       "31  5008806          1             1         0  112500.0         Working   \n",
       "61  5008808          0             1         0  270000.0         Working   \n",
       "66  5008809          0             1         0  270000.0         Working   \n",
       "\n",
       "           education marital_status            housing  phone_owned  ...  \\\n",
       "0   Higher education        Married  House / apartment            1  ...   \n",
       "16  Higher education        Married  House / apartment            1  ...   \n",
       "31         Secondary        Married  House / apartment            1  ...   \n",
       "61         Secondary         Single  House / apartment            1  ...   \n",
       "66         Secondary         Single  House / apartment            1  ...   \n",
       "\n",
       "    70_good  80_good  90_good  5_bad  is_female  Higher education  Secondary  \\\n",
       "0         1        1        1      0          0               0.0        1.0   \n",
       "16        1        1        1      0          0               0.0        1.0   \n",
       "31        1        1        1      0          0               0.0        0.0   \n",
       "61        1        1        1      0          1               0.0        0.0   \n",
       "66        1        1        1      0          1               0.0        0.0   \n",
       "\n",
       "   Academic degree  House / apartment  With parents  \n",
       "0              0.0                1.0           0.0  \n",
       "16             0.0                1.0           0.0  \n",
       "31             1.0                1.0           0.0  \n",
       "61             1.0                1.0           0.0  \n",
       "66             1.0                1.0           0.0  \n",
       "\n",
       "[5 rows x 42 columns]"
      ]
     },
     "execution_count": 66,
     "metadata": {},
     "output_type": "execute_result"
    }
   ],
   "source": [
    "df.head()"
   ]
  },
  {
   "cell_type": "markdown",
   "id": "9c8b3cf3-a253-4202-b364-b223fbcc0646",
   "metadata": {},
   "source": [
    "Employment Type"
   ]
  },
  {
   "cell_type": "code",
   "execution_count": 68,
   "id": "d6bf45bb-43bc-488a-822d-e008173cb36a",
   "metadata": {},
   "outputs": [],
   "source": [
    "oh_employment = OneHotEncoder(sparse_output=False)\n",
    "oh_employment.fit(df[['employment_type']])\n",
    "df[df['employment_type'].unique()] = oh_employment.transform(df[['employment_type']])"
   ]
  },
  {
   "cell_type": "code",
   "execution_count": 69,
   "id": "bd46019e-3296-4916-b5c6-7679c68d0cc5",
   "metadata": {},
   "outputs": [
    {
     "data": {
      "text/html": [
       "<div>\n",
       "<style scoped>\n",
       "    .dataframe tbody tr th:only-of-type {\n",
       "        vertical-align: middle;\n",
       "    }\n",
       "\n",
       "    .dataframe tbody tr th {\n",
       "        vertical-align: top;\n",
       "    }\n",
       "\n",
       "    .dataframe thead th {\n",
       "        text-align: right;\n",
       "    }\n",
       "</style>\n",
       "<table border=\"1\" class=\"dataframe\">\n",
       "  <thead>\n",
       "    <tr style=\"text-align: right;\">\n",
       "      <th></th>\n",
       "      <th>id</th>\n",
       "      <th>car_owned</th>\n",
       "      <th>realty_owned</th>\n",
       "      <th>children</th>\n",
       "      <th>income</th>\n",
       "      <th>employment_type</th>\n",
       "      <th>education</th>\n",
       "      <th>marital_status</th>\n",
       "      <th>housing</th>\n",
       "      <th>phone_owned</th>\n",
       "      <th>...</th>\n",
       "      <th>5_bad</th>\n",
       "      <th>is_female</th>\n",
       "      <th>Higher education</th>\n",
       "      <th>Secondary</th>\n",
       "      <th>Academic degree</th>\n",
       "      <th>House / apartment</th>\n",
       "      <th>With parents</th>\n",
       "      <th>Working</th>\n",
       "      <th>Pensioner</th>\n",
       "      <th>Student</th>\n",
       "    </tr>\n",
       "  </thead>\n",
       "  <tbody>\n",
       "    <tr>\n",
       "      <th>0</th>\n",
       "      <td>5008804</td>\n",
       "      <td>1</td>\n",
       "      <td>1</td>\n",
       "      <td>0</td>\n",
       "      <td>427500.0</td>\n",
       "      <td>Working</td>\n",
       "      <td>Higher education</td>\n",
       "      <td>Married</td>\n",
       "      <td>House / apartment</td>\n",
       "      <td>1</td>\n",
       "      <td>...</td>\n",
       "      <td>0</td>\n",
       "      <td>0</td>\n",
       "      <td>0.0</td>\n",
       "      <td>1.0</td>\n",
       "      <td>0.0</td>\n",
       "      <td>1.0</td>\n",
       "      <td>0.0</td>\n",
       "      <td>0.0</td>\n",
       "      <td>0.0</td>\n",
       "      <td>1.0</td>\n",
       "    </tr>\n",
       "    <tr>\n",
       "      <th>16</th>\n",
       "      <td>5008805</td>\n",
       "      <td>1</td>\n",
       "      <td>1</td>\n",
       "      <td>0</td>\n",
       "      <td>427500.0</td>\n",
       "      <td>Working</td>\n",
       "      <td>Higher education</td>\n",
       "      <td>Married</td>\n",
       "      <td>House / apartment</td>\n",
       "      <td>1</td>\n",
       "      <td>...</td>\n",
       "      <td>0</td>\n",
       "      <td>0</td>\n",
       "      <td>0.0</td>\n",
       "      <td>1.0</td>\n",
       "      <td>0.0</td>\n",
       "      <td>1.0</td>\n",
       "      <td>0.0</td>\n",
       "      <td>0.0</td>\n",
       "      <td>0.0</td>\n",
       "      <td>1.0</td>\n",
       "    </tr>\n",
       "    <tr>\n",
       "      <th>31</th>\n",
       "      <td>5008806</td>\n",
       "      <td>1</td>\n",
       "      <td>1</td>\n",
       "      <td>0</td>\n",
       "      <td>112500.0</td>\n",
       "      <td>Working</td>\n",
       "      <td>Secondary</td>\n",
       "      <td>Married</td>\n",
       "      <td>House / apartment</td>\n",
       "      <td>1</td>\n",
       "      <td>...</td>\n",
       "      <td>0</td>\n",
       "      <td>0</td>\n",
       "      <td>0.0</td>\n",
       "      <td>0.0</td>\n",
       "      <td>1.0</td>\n",
       "      <td>1.0</td>\n",
       "      <td>0.0</td>\n",
       "      <td>0.0</td>\n",
       "      <td>0.0</td>\n",
       "      <td>1.0</td>\n",
       "    </tr>\n",
       "    <tr>\n",
       "      <th>61</th>\n",
       "      <td>5008808</td>\n",
       "      <td>0</td>\n",
       "      <td>1</td>\n",
       "      <td>0</td>\n",
       "      <td>270000.0</td>\n",
       "      <td>Working</td>\n",
       "      <td>Secondary</td>\n",
       "      <td>Single</td>\n",
       "      <td>House / apartment</td>\n",
       "      <td>1</td>\n",
       "      <td>...</td>\n",
       "      <td>0</td>\n",
       "      <td>1</td>\n",
       "      <td>0.0</td>\n",
       "      <td>0.0</td>\n",
       "      <td>1.0</td>\n",
       "      <td>1.0</td>\n",
       "      <td>0.0</td>\n",
       "      <td>0.0</td>\n",
       "      <td>0.0</td>\n",
       "      <td>1.0</td>\n",
       "    </tr>\n",
       "    <tr>\n",
       "      <th>66</th>\n",
       "      <td>5008809</td>\n",
       "      <td>0</td>\n",
       "      <td>1</td>\n",
       "      <td>0</td>\n",
       "      <td>270000.0</td>\n",
       "      <td>Working</td>\n",
       "      <td>Secondary</td>\n",
       "      <td>Single</td>\n",
       "      <td>House / apartment</td>\n",
       "      <td>1</td>\n",
       "      <td>...</td>\n",
       "      <td>0</td>\n",
       "      <td>1</td>\n",
       "      <td>0.0</td>\n",
       "      <td>0.0</td>\n",
       "      <td>1.0</td>\n",
       "      <td>1.0</td>\n",
       "      <td>0.0</td>\n",
       "      <td>0.0</td>\n",
       "      <td>0.0</td>\n",
       "      <td>1.0</td>\n",
       "    </tr>\n",
       "  </tbody>\n",
       "</table>\n",
       "<p>5 rows × 45 columns</p>\n",
       "</div>"
      ],
      "text/plain": [
       "         id  car_owned  realty_owned  children    income employment_type  \\\n",
       "0   5008804          1             1         0  427500.0         Working   \n",
       "16  5008805          1             1         0  427500.0         Working   \n",
       "31  5008806          1             1         0  112500.0         Working   \n",
       "61  5008808          0             1         0  270000.0         Working   \n",
       "66  5008809          0             1         0  270000.0         Working   \n",
       "\n",
       "           education marital_status            housing  phone_owned  ...  \\\n",
       "0   Higher education        Married  House / apartment            1  ...   \n",
       "16  Higher education        Married  House / apartment            1  ...   \n",
       "31         Secondary        Married  House / apartment            1  ...   \n",
       "61         Secondary         Single  House / apartment            1  ...   \n",
       "66         Secondary         Single  House / apartment            1  ...   \n",
       "\n",
       "    5_bad  is_female  Higher education  Secondary  Academic degree  \\\n",
       "0       0          0               0.0        1.0              0.0   \n",
       "16      0          0               0.0        1.0              0.0   \n",
       "31      0          0               0.0        0.0              1.0   \n",
       "61      0          1               0.0        0.0              1.0   \n",
       "66      0          1               0.0        0.0              1.0   \n",
       "\n",
       "    House / apartment  With parents Working  Pensioner  Student  \n",
       "0                 1.0           0.0     0.0        0.0      1.0  \n",
       "16                1.0           0.0     0.0        0.0      1.0  \n",
       "31                1.0           0.0     0.0        0.0      1.0  \n",
       "61                1.0           0.0     0.0        0.0      1.0  \n",
       "66                1.0           0.0     0.0        0.0      1.0  \n",
       "\n",
       "[5 rows x 45 columns]"
      ]
     },
     "execution_count": 69,
     "metadata": {},
     "output_type": "execute_result"
    }
   ],
   "source": [
    "df.head()"
   ]
  },
  {
   "cell_type": "markdown",
   "id": "6db2f67b-783a-416b-b630-e4277d0d7e8f",
   "metadata": {},
   "source": [
    "Marital Status"
   ]
  },
  {
   "cell_type": "code",
   "execution_count": 71,
   "id": "8d53500b-e9de-423e-8ad4-640ec7005ce0",
   "metadata": {},
   "outputs": [],
   "source": [
    "oh_marital = OneHotEncoder(sparse_output=False)\n",
    "oh_marital.fit(df[['marital_status']])\n",
    "df[df['marital_status'].unique()] = oh_marital.transform(df[['marital_status']])"
   ]
  },
  {
   "cell_type": "code",
   "execution_count": 72,
   "id": "bf525454-e10e-4bfc-adb6-d9b0aad7b14a",
   "metadata": {},
   "outputs": [
    {
     "data": {
      "text/html": [
       "<div>\n",
       "<style scoped>\n",
       "    .dataframe tbody tr th:only-of-type {\n",
       "        vertical-align: middle;\n",
       "    }\n",
       "\n",
       "    .dataframe tbody tr th {\n",
       "        vertical-align: top;\n",
       "    }\n",
       "\n",
       "    .dataframe thead th {\n",
       "        text-align: right;\n",
       "    }\n",
       "</style>\n",
       "<table border=\"1\" class=\"dataframe\">\n",
       "  <thead>\n",
       "    <tr style=\"text-align: right;\">\n",
       "      <th></th>\n",
       "      <th>id</th>\n",
       "      <th>car_owned</th>\n",
       "      <th>realty_owned</th>\n",
       "      <th>children</th>\n",
       "      <th>income</th>\n",
       "      <th>employment_type</th>\n",
       "      <th>education</th>\n",
       "      <th>marital_status</th>\n",
       "      <th>housing</th>\n",
       "      <th>phone_owned</th>\n",
       "      <th>...</th>\n",
       "      <th>Higher education</th>\n",
       "      <th>Secondary</th>\n",
       "      <th>Academic degree</th>\n",
       "      <th>House / apartment</th>\n",
       "      <th>With parents</th>\n",
       "      <th>Working</th>\n",
       "      <th>Pensioner</th>\n",
       "      <th>Student</th>\n",
       "      <th>Married</th>\n",
       "      <th>Single</th>\n",
       "    </tr>\n",
       "  </thead>\n",
       "  <tbody>\n",
       "    <tr>\n",
       "      <th>0</th>\n",
       "      <td>5008804</td>\n",
       "      <td>1</td>\n",
       "      <td>1</td>\n",
       "      <td>0</td>\n",
       "      <td>427500.0</td>\n",
       "      <td>Working</td>\n",
       "      <td>Higher education</td>\n",
       "      <td>Married</td>\n",
       "      <td>House / apartment</td>\n",
       "      <td>1</td>\n",
       "      <td>...</td>\n",
       "      <td>0.0</td>\n",
       "      <td>1.0</td>\n",
       "      <td>0.0</td>\n",
       "      <td>1.0</td>\n",
       "      <td>0.0</td>\n",
       "      <td>0.0</td>\n",
       "      <td>0.0</td>\n",
       "      <td>1.0</td>\n",
       "      <td>1.0</td>\n",
       "      <td>0.0</td>\n",
       "    </tr>\n",
       "    <tr>\n",
       "      <th>16</th>\n",
       "      <td>5008805</td>\n",
       "      <td>1</td>\n",
       "      <td>1</td>\n",
       "      <td>0</td>\n",
       "      <td>427500.0</td>\n",
       "      <td>Working</td>\n",
       "      <td>Higher education</td>\n",
       "      <td>Married</td>\n",
       "      <td>House / apartment</td>\n",
       "      <td>1</td>\n",
       "      <td>...</td>\n",
       "      <td>0.0</td>\n",
       "      <td>1.0</td>\n",
       "      <td>0.0</td>\n",
       "      <td>1.0</td>\n",
       "      <td>0.0</td>\n",
       "      <td>0.0</td>\n",
       "      <td>0.0</td>\n",
       "      <td>1.0</td>\n",
       "      <td>1.0</td>\n",
       "      <td>0.0</td>\n",
       "    </tr>\n",
       "    <tr>\n",
       "      <th>31</th>\n",
       "      <td>5008806</td>\n",
       "      <td>1</td>\n",
       "      <td>1</td>\n",
       "      <td>0</td>\n",
       "      <td>112500.0</td>\n",
       "      <td>Working</td>\n",
       "      <td>Secondary</td>\n",
       "      <td>Married</td>\n",
       "      <td>House / apartment</td>\n",
       "      <td>1</td>\n",
       "      <td>...</td>\n",
       "      <td>0.0</td>\n",
       "      <td>0.0</td>\n",
       "      <td>1.0</td>\n",
       "      <td>1.0</td>\n",
       "      <td>0.0</td>\n",
       "      <td>0.0</td>\n",
       "      <td>0.0</td>\n",
       "      <td>1.0</td>\n",
       "      <td>1.0</td>\n",
       "      <td>0.0</td>\n",
       "    </tr>\n",
       "    <tr>\n",
       "      <th>61</th>\n",
       "      <td>5008808</td>\n",
       "      <td>0</td>\n",
       "      <td>1</td>\n",
       "      <td>0</td>\n",
       "      <td>270000.0</td>\n",
       "      <td>Working</td>\n",
       "      <td>Secondary</td>\n",
       "      <td>Single</td>\n",
       "      <td>House / apartment</td>\n",
       "      <td>1</td>\n",
       "      <td>...</td>\n",
       "      <td>0.0</td>\n",
       "      <td>0.0</td>\n",
       "      <td>1.0</td>\n",
       "      <td>1.0</td>\n",
       "      <td>0.0</td>\n",
       "      <td>0.0</td>\n",
       "      <td>0.0</td>\n",
       "      <td>1.0</td>\n",
       "      <td>0.0</td>\n",
       "      <td>1.0</td>\n",
       "    </tr>\n",
       "    <tr>\n",
       "      <th>66</th>\n",
       "      <td>5008809</td>\n",
       "      <td>0</td>\n",
       "      <td>1</td>\n",
       "      <td>0</td>\n",
       "      <td>270000.0</td>\n",
       "      <td>Working</td>\n",
       "      <td>Secondary</td>\n",
       "      <td>Single</td>\n",
       "      <td>House / apartment</td>\n",
       "      <td>1</td>\n",
       "      <td>...</td>\n",
       "      <td>0.0</td>\n",
       "      <td>0.0</td>\n",
       "      <td>1.0</td>\n",
       "      <td>1.0</td>\n",
       "      <td>0.0</td>\n",
       "      <td>0.0</td>\n",
       "      <td>0.0</td>\n",
       "      <td>1.0</td>\n",
       "      <td>0.0</td>\n",
       "      <td>1.0</td>\n",
       "    </tr>\n",
       "  </tbody>\n",
       "</table>\n",
       "<p>5 rows × 47 columns</p>\n",
       "</div>"
      ],
      "text/plain": [
       "         id  car_owned  realty_owned  children    income employment_type  \\\n",
       "0   5008804          1             1         0  427500.0         Working   \n",
       "16  5008805          1             1         0  427500.0         Working   \n",
       "31  5008806          1             1         0  112500.0         Working   \n",
       "61  5008808          0             1         0  270000.0         Working   \n",
       "66  5008809          0             1         0  270000.0         Working   \n",
       "\n",
       "           education marital_status            housing  phone_owned  ...  \\\n",
       "0   Higher education        Married  House / apartment            1  ...   \n",
       "16  Higher education        Married  House / apartment            1  ...   \n",
       "31         Secondary        Married  House / apartment            1  ...   \n",
       "61         Secondary         Single  House / apartment            1  ...   \n",
       "66         Secondary         Single  House / apartment            1  ...   \n",
       "\n",
       "    Higher education  Secondary  Academic degree  House / apartment  \\\n",
       "0                0.0        1.0              0.0                1.0   \n",
       "16               0.0        1.0              0.0                1.0   \n",
       "31               0.0        0.0              1.0                1.0   \n",
       "61               0.0        0.0              1.0                1.0   \n",
       "66               0.0        0.0              1.0                1.0   \n",
       "\n",
       "    With parents  Working  Pensioner Student  Married  Single  \n",
       "0            0.0      0.0        0.0     1.0      1.0     0.0  \n",
       "16           0.0      0.0        0.0     1.0      1.0     0.0  \n",
       "31           0.0      0.0        0.0     1.0      1.0     0.0  \n",
       "61           0.0      0.0        0.0     1.0      0.0     1.0  \n",
       "66           0.0      0.0        0.0     1.0      0.0     1.0  \n",
       "\n",
       "[5 rows x 47 columns]"
      ]
     },
     "execution_count": 72,
     "metadata": {},
     "output_type": "execute_result"
    }
   ],
   "source": [
    "df.head()"
   ]
  },
  {
   "cell_type": "markdown",
   "id": "65a703fc-9b2d-494b-b5aa-21e316a16f98",
   "metadata": {},
   "source": [
    "# Data Exploration"
   ]
  },
  {
   "cell_type": "markdown",
   "id": "886387a0-64d3-43ab-a2bc-cb2117062e52",
   "metadata": {},
   "source": [
    "What are the demographics of our data?"
   ]
  },
  {
   "cell_type": "code",
   "execution_count": 75,
   "id": "d9b64ca1-f525-49c3-be02-e077bb0004ac",
   "metadata": {},
   "outputs": [
    {
     "data": {
      "text/plain": [
       "is_female\n",
       "1    24430\n",
       "0    12027\n",
       "Name: count, dtype: int64"
      ]
     },
     "execution_count": 75,
     "metadata": {},
     "output_type": "execute_result"
    }
   ],
   "source": [
    "df['is_female'].value_counts()\n",
    "# more females than males"
   ]
  },
  {
   "cell_type": "code",
   "execution_count": 76,
   "id": "7e2ab269-75fe-4736-9814-a225fe04ec9b",
   "metadata": {},
   "outputs": [
    {
     "data": {
      "text/plain": [
       "count    36457.000000\n",
       "mean        43.777382\n",
       "std         11.519211\n",
       "min         21.000000\n",
       "25%         34.000000\n",
       "50%         43.000000\n",
       "75%         53.000000\n",
       "max         69.000000\n",
       "Name: age, dtype: float64"
      ]
     },
     "execution_count": 76,
     "metadata": {},
     "output_type": "execute_result"
    }
   ],
   "source": [
    "df['age'].describe()\n",
    "# middle 50% of our data between ages 30-50"
   ]
  },
  {
   "cell_type": "markdown",
   "id": "6bbee351-543f-41c7-91c3-34975d46e2f8",
   "metadata": {},
   "source": [
    "Do they own property or cars?"
   ]
  },
  {
   "cell_type": "code",
   "execution_count": 78,
   "id": "68414d31-e02c-4d52-8842-650498007f52",
   "metadata": {},
   "outputs": [
    {
     "data": {
      "text/plain": [
       "car_owned\n",
       "0    22614\n",
       "1    13843\n",
       "Name: count, dtype: int64"
      ]
     },
     "execution_count": 78,
     "metadata": {},
     "output_type": "execute_result"
    }
   ],
   "source": [
    "df['car_owned'].value_counts()\n",
    "# more people don't own cars"
   ]
  },
  {
   "cell_type": "code",
   "execution_count": 79,
   "id": "da933fe1-8813-4548-8cc7-99bf76cb0b9f",
   "metadata": {},
   "outputs": [
    {
     "data": {
      "text/plain": [
       "realty_owned\n",
       "1    24506\n",
       "0    11951\n",
       "Name: count, dtype: int64"
      ]
     },
     "execution_count": 79,
     "metadata": {},
     "output_type": "execute_result"
    }
   ],
   "source": [
    "df['realty_owned'].value_counts()\n",
    "# more people own property"
   ]
  },
  {
   "cell_type": "markdown",
   "id": "64cc0ea2-d423-48f2-9b33-eaf75bfee469",
   "metadata": {},
   "source": [
    "Are they employed? If so, how long? How much do they make?"
   ]
  },
  {
   "cell_type": "code",
   "execution_count": 81,
   "id": "18fd7ce7-6266-4984-8794-83be162b8080",
   "metadata": {},
   "outputs": [
    {
     "data": {
      "text/plain": [
       "employment_type\n",
       "Working      30294\n",
       "Pensioner     6152\n",
       "Student         11\n",
       "Name: count, dtype: int64"
      ]
     },
     "execution_count": 81,
     "metadata": {},
     "output_type": "execute_result"
    }
   ],
   "source": [
    "df['employment_type'].value_counts()\n",
    "# most people are working (expected since we have mostly 30-50 year olds)"
   ]
  },
  {
   "cell_type": "code",
   "execution_count": 82,
   "id": "f0a04f7f-9866-41d6-b1db-80059e1c19da",
   "metadata": {},
   "outputs": [
    {
     "data": {
      "text/plain": [
       "count    36457.00000\n",
       "mean         6.03810\n",
       "std          6.48948\n",
       "min          0.00000\n",
       "25%          1.00000\n",
       "50%          4.00000\n",
       "75%          9.00000\n",
       "max         43.00000\n",
       "Name: years_employed, dtype: float64"
      ]
     },
     "execution_count": 82,
     "metadata": {},
     "output_type": "execute_result"
    }
   ],
   "source": [
    "df['years_employed'].describe()\n",
    "# middle 50% of data employed for 1-8 years"
   ]
  },
  {
   "cell_type": "code",
   "execution_count": 83,
   "id": "56880ed7-489f-4e17-a1c9-368a95d9ab75",
   "metadata": {},
   "outputs": [
    {
     "data": {
      "text/plain": [
       "count    3.645700e+04\n",
       "mean     1.866857e+05\n",
       "std      1.017892e+05\n",
       "min      2.700000e+04\n",
       "25%      1.215000e+05\n",
       "50%      1.575000e+05\n",
       "75%      2.250000e+05\n",
       "max      1.575000e+06\n",
       "Name: income, dtype: float64"
      ]
     },
     "execution_count": 83,
     "metadata": {},
     "output_type": "execute_result"
    }
   ],
   "source": [
    "df['income'].describe()\n",
    "# middle 50% of our data make $121,500 - $225,000"
   ]
  },
  {
   "cell_type": "markdown",
   "id": "3119199e-1ab0-44da-b1af-054c685a978c",
   "metadata": {},
   "source": [
    "For the people working, how long were they employed?"
   ]
  },
  {
   "cell_type": "code",
   "execution_count": 85,
   "id": "c4c23ed9-70ec-4c79-a47a-0866ffd3c131",
   "metadata": {},
   "outputs": [
    {
     "data": {
      "text/plain": [
       "count    30294.000000\n",
       "mean         7.259721\n",
       "std          6.463283\n",
       "min          0.000000\n",
       "25%          3.000000\n",
       "50%          5.000000\n",
       "75%         10.000000\n",
       "max         43.000000\n",
       "Name: years_employed, dtype: float64"
      ]
     },
     "execution_count": 85,
     "metadata": {},
     "output_type": "execute_result"
    }
   ],
   "source": [
    "df[df['employment_type'] == 'Working']['years_employed'].describe()"
   ]
  },
  {
   "cell_type": "markdown",
   "id": "d0704a85-d43d-40a0-9ac1-525d65466930",
   "metadata": {},
   "source": [
    "How many unemployed people are there in our dataset?"
   ]
  },
  {
   "cell_type": "code",
   "execution_count": 87,
   "id": "4b4fbb0d-e0f5-4c05-87fd-bf268744a1d0",
   "metadata": {},
   "outputs": [
    {
     "data": {
      "text/plain": [
       "905"
      ]
     },
     "execution_count": 87,
     "metadata": {},
     "output_type": "execute_result"
    }
   ],
   "source": [
    "len(df[(df['years_employed'] == 0) & (df['employment_type'] == 'Working')])"
   ]
  },
  {
   "cell_type": "markdown",
   "id": "844a0bb4-d0c9-4c64-b9d8-7a44e38848ac",
   "metadata": {},
   "source": [
    "What percentage of working people are unemployed?"
   ]
  },
  {
   "cell_type": "code",
   "execution_count": 89,
   "id": "05b48e00-f427-4d24-8cfb-fd75d33012e0",
   "metadata": {},
   "outputs": [
    {
     "data": {
      "text/plain": [
       "0.02482376498340511"
      ]
     },
     "execution_count": 89,
     "metadata": {},
     "output_type": "execute_result"
    }
   ],
   "source": [
    "len(df[(df['years_employed'] == 0) & (df['employment_type'] == 'Working')]) / len(df['employment_type'] == 'Working')"
   ]
  },
  {
   "cell_type": "code",
   "execution_count": 90,
   "id": "fac1fb5c-31c5-4cfe-95f0-6cfcf204d4c6",
   "metadata": {},
   "outputs": [
    {
     "data": {
      "text/plain": [
       "194372.8339275104"
      ]
     },
     "execution_count": 90,
     "metadata": {},
     "output_type": "execute_result"
    }
   ],
   "source": [
    "df[df['employment_type'] == 'Working']['income'].mean()"
   ]
  },
  {
   "cell_type": "markdown",
   "id": "2c18fdf3-40c5-447e-842e-5403f098aee6",
   "metadata": {},
   "source": [
    "What about their family/marital status?"
   ]
  },
  {
   "cell_type": "code",
   "execution_count": 92,
   "id": "7ec1ffcc-60f4-4a89-9005-a72c6cb46d4c",
   "metadata": {},
   "outputs": [
    {
     "data": {
      "text/plain": [
       "marital_status\n",
       "Married    27993\n",
       "Single      8464\n",
       "Name: count, dtype: int64"
      ]
     },
     "execution_count": 92,
     "metadata": {},
     "output_type": "execute_result"
    }
   ],
   "source": [
    "df['marital_status'].value_counts()"
   ]
  },
  {
   "cell_type": "code",
   "execution_count": 93,
   "id": "2a65e747-c2cb-4ec2-8f3c-e55633f16dae",
   "metadata": {},
   "outputs": [
    {
     "data": {
      "text/plain": [
       "count    36457.000000\n",
       "mean         2.198453\n",
       "std          0.911686\n",
       "min          1.000000\n",
       "25%          2.000000\n",
       "50%          2.000000\n",
       "75%          3.000000\n",
       "max         20.000000\n",
       "Name: family_size, dtype: float64"
      ]
     },
     "execution_count": 93,
     "metadata": {},
     "output_type": "execute_result"
    }
   ],
   "source": [
    "df['family_size'].describe()\n",
    "# 75% of our data has 1-3 people in their family"
   ]
  },
  {
   "cell_type": "markdown",
   "id": "26a7e39b-2658-400f-9ac5-cefd66f8d534",
   "metadata": {},
   "source": [
    "# Data Visualization"
   ]
  },
  {
   "cell_type": "code",
   "execution_count": 95,
   "id": "4ac865fd-62b6-4c09-a16b-d460e135eb15",
   "metadata": {},
   "outputs": [],
   "source": [
    "import seaborn as sns"
   ]
  },
  {
   "cell_type": "code",
   "execution_count": 96,
   "id": "613685c0-83da-467c-89ee-953edce04ce0",
   "metadata": {},
   "outputs": [],
   "source": [
    "# set the Seaborn context for cleaner visuals\n",
    "sns.set_context(\"notebook\", font_scale=0.7, rc={\n",
    "    \"grid.linewidth\": 0.1,\n",
    "    \"patch.linewidth\": 0.0,\n",
    "    \"axes.grid\": True,\n",
    "    \"grid.linestyle\": \"-\",\n",
    "    \"axes.titlesize\": 13,\n",
    "    \"figure.autolayout\": True\n",
    "})\n",
    "\n",
    "# blue-themed palette\n",
    "palette_light_blue = ['#B0E0E6',  # PowderBlue\n",
    "                      '#ADD8E6',  # LightBlue\n",
    "                      '#87CEEB',  # SkyBlue\n",
    "                      '#87CEFA',  # LightSkyBlue\n",
    "                      '#4682B4',  # SteelBlue\n",
    "                      '#5F9EA0']  # CadetBlue\n",
    "\n",
    "# apply the custom palette\n",
    "sns.set_palette(sns.color_palette(palette_light_blue))"
   ]
  },
  {
   "cell_type": "markdown",
   "id": "e2593b21-6b41-43bf-b7a0-b6e4834fe0b4",
   "metadata": {},
   "source": [
    "## Demographics of our data"
   ]
  },
  {
   "cell_type": "code",
   "execution_count": 98,
   "id": "aa3d6aed-abf4-40f4-8983-34d0bb151d52",
   "metadata": {},
   "outputs": [
    {
     "data": {
      "text/plain": [
       "Text(0.5, 1.0, 'Age Distribution')"
      ]
     },
     "execution_count": 98,
     "metadata": {},
     "output_type": "execute_result"
    },
    {
     "data": {
      "image/png": "[encoded data removed]",
      "text/plain": [
       "<Figure size 640x480 with 1 Axes>"
      ]
     },
     "metadata": {},
     "output_type": "display_data"
    }
   ],
   "source": [
    "plt.hist(df['age'], bins=20)\n",
    "plt.xlabel('Age')\n",
    "plt.ylabel('Count')\n",
    "plt.title('Age Distribution')"
   ]
  },
  {
   "cell_type": "code",
   "execution_count": 165,
   "id": "3aa9b1c1-9dec-4e5e-8dfc-55dead0567c7",
   "metadata": {},
   "outputs": [
    {
     "data": {
      "text/plain": [
       "count    36457.000000\n",
       "mean        43.777382\n",
       "std         11.519211\n",
       "min         21.000000\n",
       "25%         34.000000\n",
       "50%         43.000000\n",
       "75%         53.000000\n",
       "max         69.000000\n",
       "Name: age, dtype: float64"
      ]
     },
     "execution_count": 165,
     "metadata": {},
     "output_type": "execute_result"
    }
   ],
   "source": [
    "df['age'].describe()"
   ]
  },
  {
   "cell_type": "code",
   "execution_count": 167,
   "id": "d4776c37-ba92-42d0-886a-0e89aa23bb77",
   "metadata": {},
   "outputs": [
    {
     "data": {
      "text/plain": [
       "Text(0, 0.5, 'Count')"
      ]
     },
     "execution_count": 167,
     "metadata": {},
     "output_type": "execute_result"
    },
    {
     "data": {
      "image/png": "[encoded data removed]",
      "text/plain": [
       "<Figure size 640x480 with 1 Axes>"
      ]
     },
     "metadata": {},
     "output_type": "display_data"
    }
   ],
   "source": [
    "plt.hist(df['income'], bins=30)\n",
    "plt.xlabel('Income (in $ millions)')\n",
    "plt.ylabel('Count')"
   ]
  },
  {
   "cell_type": "code",
   "execution_count": 169,
   "id": "c2be3ff3-c68c-405a-adcb-9a5959e2884e",
   "metadata": {},
   "outputs": [
    {
     "data": {
      "text/plain": [
       "Text(0.5, 1.0, 'Years Employed Distribution')"
      ]
     },
     "execution_count": 169,
     "metadata": {},
     "output_type": "execute_result"
    },
    {
     "data": {
      "image/png": "[encoded data removed]",
      "text/plain": [
       "<Figure size 640x480 with 1 Axes>"
      ]
     },
     "metadata": {},
     "output_type": "display_data"
    }
   ],
   "source": [
    "plt.hist(df['years_employed'], bins=30)\n",
    "plt.xlabel('Years Employed')\n",
    "plt.ylabel('Count')\n",
    "plt.title('Years Employed Distribution')"
   ]
  },
  {
   "cell_type": "markdown",
   "id": "38e1d361-b75d-4975-be5a-0aa14d765c06",
   "metadata": {},
   "source": [
    "## Excellent Payback Rates"
   ]
  },
  {
   "cell_type": "code",
   "execution_count": 172,
   "id": "114e5c1d-6e48-479d-b494-db674c4d95f0",
   "metadata": {},
   "outputs": [
    {
     "data": {
      "image/png": "[encoded data removed]",
      "text/plain": [
       "<Figure size 640x480 with 1 Axes>"
      ]
     },
     "metadata": {},
     "output_type": "display_data"
    }
   ],
   "source": [
    "# plot bar chart\n",
    "df.groupby('employment_type')['excellent_payback'].mean().plot(kind='barh', color='#4682B4')  \n",
    "\n",
    "# add vertical reference line \n",
    "plt.axvline(df['excellent_payback'].mean(), color='red', linestyle='dashed', alpha = 0.4)\n",
    "\n",
    "plt.xlabel('Average Excellent Payback (%)')\n",
    "plt.ylabel('Education Level')\n",
    "plt.title('Excellent Payback by Employment Level')\n",
    "\n",
    "plt.show()"
   ]
  },
  {
   "cell_type": "code",
   "execution_count": 174,
   "id": "f4a67a23-b822-444e-a3a2-a40fab66fbb7",
   "metadata": {},
   "outputs": [
    {
     "data": {
      "image/png": "[encoded data removed]",
      "text/plain": [
       "<Figure size 640x480 with 1 Axes>"
      ]
     },
     "metadata": {},
     "output_type": "display_data"
    }
   ],
   "source": [
    "# plot bar chart\n",
    "df.groupby('education')['excellent_payback'].mean().plot(kind='barh', color='#87CEEB') \n",
    "\n",
    "# add vertical reference line \n",
    "plt.axvline(df['excellent_payback'].mean(), color='red', linestyle='dashed', alpha = 0.4)\n",
    "\n",
    "plt.xlabel('Average Excellent Payback (%)')\n",
    "plt.ylabel('Education Level')\n",
    "plt.title('Excellent Payback by Education Level')\n",
    "\n",
    "plt.show()"
   ]
  },
  {
   "cell_type": "code",
   "execution_count": 179,
   "id": "2591a28e-6447-4d3b-a800-ff6b29767378",
   "metadata": {},
   "outputs": [
    {
     "data": {
      "image/png": "[encoded data removed]",
      "text/plain": [
       "<Figure size 1000x600 with 1 Axes>"
      ]
     },
     "metadata": {},
     "output_type": "display_data"
    }
   ],
   "source": [
    "# unique colors for each education category\n",
    "education_colors = {\n",
    "    'Academic degree': '#acc2d9',  \n",
    "    'Secondary': '#75bbfd',        \n",
    "    'Higher education': '#2c6fbb'  \n",
    "}\n",
    "\n",
    "# filter for non students\n",
    "working_df = df[df['employment_type'] != 'Student']\n",
    "\n",
    "# group by employment type and education level, then calculate mean excellent payback rate\n",
    "grouped_means = working_df.groupby(['employment_type', 'education'])['excellent_payback'].mean().unstack()\n",
    "\n",
    "# get categories\n",
    "employment_types = grouped_means.index\n",
    "education_levels = grouped_means.columns\n",
    "\n",
    "# set bar width\n",
    "bar_width = 0.15\n",
    "x = np.arange(len(employment_types))  # x-axis positions\n",
    "\n",
    "plt.figure(figsize=(10, 6))\n",
    "\n",
    "# plot bars for each education level with predefined colors\n",
    "for i, edu in enumerate(education_levels):\n",
    "    plt.bar(x + i * bar_width, grouped_means[edu], width=bar_width, color=education_colors.get(edu, 'gray'), label=edu)\n",
    "\n",
    "plt.xlabel('Employment Type')\n",
    "plt.ylabel('Average Excellent Payback (%)')\n",
    "plt.title('Excellent Payback by Employment Type and Education Level')\n",
    "plt.xticks(ticks=x + (len(education_levels) * bar_width) / 2, labels=employment_types, rotation=30)\n",
    "plt.legend(title=\"Education Level\")\n",
    "\n",
    "plt.show()"
   ]
  },
  {
   "cell_type": "code",
   "execution_count": 181,
   "id": "2142a672-2c7b-4b2e-8824-160d1a79f7ac",
   "metadata": {},
   "outputs": [
    {
     "data": {
      "image/png": "[encoded data removed]",
      "text/plain": [
       "<Figure size 640x480 with 1 Axes>"
      ]
     },
     "metadata": {},
     "output_type": "display_data"
    }
   ],
   "source": [
    "# plot bar chart\n",
    "df.groupby('housing')['excellent_payback'].mean().plot(kind='barh', color='#B0E0E6')  \n",
    "\n",
    "# add vertical reference line \n",
    "plt.axvline(df['excellent_payback'].mean(), color='red', linestyle='dashed', alpha = 0.4)\n",
    "\n",
    "plt.xlabel('Average Excellent Payback (%)')\n",
    "plt.ylabel('Housing Type')\n",
    "plt.title('Excellent Payback by Housing Status')\n",
    "\n",
    "plt.show()"
   ]
  },
  {
   "cell_type": "code",
   "execution_count": 183,
   "id": "2da3babc-659e-42d9-8842-436e1c5c5d56",
   "metadata": {},
   "outputs": [
    {
     "data": {
      "image/png": "[encoded data removed]",
      "text/plain": [
       "<Figure size 640x480 with 1 Axes>"
      ]
     },
     "metadata": {},
     "output_type": "display_data"
    }
   ],
   "source": [
    "# plot bar chart\n",
    "df.groupby('marital_status')['excellent_payback'].mean().plot(kind='barh', color='#5F9EA0')  # CadetBlue\n",
    "\n",
    "# add vertical reference line \n",
    "plt.axvline(df['excellent_payback'].mean(), color='red', linestyle='dashed', alpha = 0.4)\n",
    "\n",
    "plt.xlabel('Average Excellent Payback (%)')\n",
    "plt.ylabel('Marital Status')\n",
    "plt.title('Excellent Payback Rate by Marital Status')\n",
    "\n",
    "plt.show()"
   ]
  },
  {
   "cell_type": "code",
   "execution_count": 185,
   "id": "d02d7275-ffc6-4950-a42b-fcfeb638c0d3",
   "metadata": {},
   "outputs": [
    {
     "data": {
      "image/png": "[encoded data removed]",
      "text/plain": [
       "<Figure size 800x600 with 1 Axes>"
      ]
     },
     "metadata": {},
     "output_type": "display_data"
    }
   ],
   "source": [
    "# create masks for married and single individuals\n",
    "married_mask = df['marital_status'] == 'Married'\n",
    "single_mask = df['marital_status'] == 'Single'\n",
    "\n",
    "# filter for family sizes up to 5\n",
    "married_fam_df = df[married_mask & (df['family_size'] <= 5)]\n",
    "single_fam_df = df[single_mask & (df['family_size'] <= 5)]\n",
    "\n",
    "# compute mean excellent payback rates by family size\n",
    "married_means = married_fam_df.groupby('family_size')['excellent_payback'].mean()\n",
    "single_means = single_fam_df.groupby('family_size')['excellent_payback'].mean()\n",
    "\n",
    "# align indexes to ensure both datasets have the same family size categories\n",
    "family_sizes = sorted(set(married_means.index).union(set(single_means.index)))\n",
    "married_values = [married_means.get(size, 0) for size in family_sizes]\n",
    "single_values = [single_means.get(size, 0) for size in family_sizes]\n",
    "\n",
    "# set bar width\n",
    "bar_width = 0.4\n",
    "x = np.arange(len(family_sizes))  # X-axis positions\n",
    "\n",
    "plt.figure(figsize=(8, 6))\n",
    "\n",
    "# plot side-by-side bars\n",
    "plt.bar(x - bar_width/2, single_values, width=bar_width, color='#2c6fbb', label='Single')  # LightSalmon\n",
    "plt.bar(x + bar_width/2, married_values, width=bar_width, color='#75bbfd', label='Married')  # CadetBlue\n",
    "\n",
    "# add vertical reference line\n",
    "plt.axhline(df['excellent_payback'].mean(), color='red', linestyle='dashed', alpha = 0.4)\n",
    "\n",
    "plt.xlabel('Family Size (Number of Members)')\n",
    "plt.ylabel('Average Excellent Payback (%)')\n",
    "plt.title('Excellent Payback Rate by Family Size (Married vs. Single)')\n",
    "plt.xticks(ticks=x, labels=family_sizes)  # Set correct labels on x-axis\n",
    "plt.legend()\n",
    "\n",
    "plt.show()"
   ]
  },
  {
   "cell_type": "code",
   "execution_count": 187,
   "id": "3c00e824-a4c5-4d43-87b2-9107b563f4ee",
   "metadata": {
    "scrolled": true
   },
   "outputs": [
    {
     "data": {
      "image/png": "[encoded data removed]",
      "text/plain": [
       "<Figure size 800x600 with 1 Axes>"
      ]
     },
     "metadata": {},
     "output_type": "display_data"
    }
   ],
   "source": [
    "# filter for family sizes up to 5\n",
    "married_child_df = df[married_mask & (df['children'] <= 4)]\n",
    "single_child_df = df[single_mask & (df['children'] <= 4)]\n",
    "\n",
    "# compute mean excellent payback rates by family size\n",
    "married_means = married_child_df.groupby('children')['excellent_payback'].mean()\n",
    "single_means = single_child_df.groupby('children')['excellent_payback'].mean()\n",
    "\n",
    "# align indexes to ensure both datasets have the same family size categories\n",
    "family_sizes = sorted(set(married_means.index).union(set(single_means.index)))\n",
    "married_values = [married_means.get(size, 0) for size in family_sizes]\n",
    "single_values = [single_means.get(size, 0) for size in family_sizes]\n",
    "\n",
    "# set bar width\n",
    "bar_width = 0.4\n",
    "x = np.arange(len(family_sizes))  # X-axis positions\n",
    "\n",
    "plt.figure(figsize=(8, 6))\n",
    "\n",
    "# plot side-by-side bars\n",
    "plt.bar(x - bar_width/2, single_values, width=bar_width, color='#2c6fbb', label='Single')  # LightSalmon\n",
    "plt.bar(x + bar_width/2, married_values, width=bar_width, color='#75bbfd', label='Married')  # CadetBlue\n",
    "\n",
    "# add vertical reference line\n",
    "plt.axhline(df['excellent_payback'].mean(), color='red', linestyle='dashed', alpha = 0.4)\n",
    "\n",
    "plt.xlabel('Number of Children')\n",
    "plt.ylabel('Average Excellent Payback (%)')\n",
    "plt.title('Excellent Payback Rate by Number of Children (Married vs. Single)')\n",
    "plt.xticks(ticks=x, labels=family_sizes)  # Set correct labels on x-axis\n",
    "plt.legend()\n",
    "\n",
    "plt.show()"
   ]
  },
  {
   "cell_type": "code",
   "execution_count": 191,
   "id": "8bfbe9ca-5b6c-46c0-aaae-e5ac739a689e",
   "metadata": {},
   "outputs": [
    {
     "data": {
      "image/png": "[encoded data removed]",
      "text/plain": [
       "<Figure size 1000x600 with 1 Axes>"
      ]
     },
     "metadata": {},
     "output_type": "display_data"
    }
   ],
   "source": [
    "# compute the average excellent payback rate per years employed\n",
    "avg_excellent_payback = df.groupby('age')['excellent_payback'].mean()\n",
    "\n",
    "plt.figure(figsize=(10, 6))\n",
    "plt.plot(avg_excellent_payback.index, avg_excellent_payback.values, marker='o', linestyle='-', color='skyblue')\n",
    "\n",
    "# add horizontal reference line\n",
    "plt.axhline(df['excellent_payback'].mean(), color='red', linestyle='dashed', linewidth=2, label='Overall Avg Payback', alpha = 0.4)\n",
    "\n",
    "plt.xlabel('Age')\n",
    "plt.ylabel('Average Excellent Payback Rate (%)')\n",
    "plt.title('Average Excellent Payback Rate by Age')\n",
    "\n",
    "plt.grid(axis='both', linestyle='--', alpha=0.7)\n",
    "plt.show()"
   ]
  },
  {
   "cell_type": "code",
   "execution_count": 193,
   "id": "b43ecfd9-a0e6-4b30-b63d-87614e7b4edd",
   "metadata": {},
   "outputs": [
    {
     "data": {
      "image/png": "[encoded data removed]",
      "text/plain": [
       "<Figure size 1500x600 with 1 Axes>"
      ]
     },
     "metadata": {},
     "output_type": "display_data"
    }
   ],
   "source": [
    "# compute the average excellent payback rate per years employed\n",
    "avg_excellent_payback = df.groupby('income')['excellent_payback'].mean()\n",
    "\n",
    "plt.figure(figsize=(15, 6))\n",
    "\n",
    "# plot the line graph\n",
    "plt.plot(avg_excellent_payback.index, avg_excellent_payback.values, marker='o', linestyle='-', color='skyblue')\n",
    "\n",
    "# add horizontal reference line\n",
    "plt.axhline(df['excellent_payback'].mean(), color='red', linestyle='dashed', linewidth=2, label='Overall Avg Payback', alpha = 0.4)\n",
    "\n",
    "plt.xlabel('Income (in millions $)')\n",
    "plt.ylabel('Average Excellent Payback Rate (%)')\n",
    "plt.title('Average Excellent Payback Rate by Income')\n",
    "\n",
    "plt.grid(axis='both', linestyle='--', alpha=0.7)\n",
    "plt.show()"
   ]
  },
  {
   "cell_type": "markdown",
   "id": "5bc10123-70df-43be-b743-6e9f72f72a78",
   "metadata": {},
   "source": [
    "# Machine Modeling"
   ]
  },
  {
   "cell_type": "code",
   "execution_count": 199,
   "id": "ee107a0f-dcdb-4d86-89ae-b87f1c1c6013",
   "metadata": {},
   "outputs": [],
   "source": [
    "from sklearn.model_selection import train_test_split\n",
    "from sklearn.ensemble import RandomForestClassifier\n",
    "from sklearn.neighbors import KNeighborsClassifier"
   ]
  },
  {
   "cell_type": "code",
   "execution_count": 201,
   "id": "d886ba89-1a52-473b-a2d0-89d73a5c4aa2",
   "metadata": {},
   "outputs": [],
   "source": [
    "from imblearn.over_sampling import SMOTE\n",
    "from sklearn.preprocessing import StandardScaler\n",
    "from sklearn.metrics import accuracy_score, confusion_matrix, precision_score, recall_score, roc_auc_score, classification_report, ConfusionMatrixDisplay"
   ]
  },
  {
   "cell_type": "markdown",
   "id": "b321fab4-aad9-44ca-8bd2-094ece216e71",
   "metadata": {},
   "source": [
    "## Splitting data and initializing SMOTE"
   ]
  },
  {
   "cell_type": "code",
   "execution_count": 204,
   "id": "d7f2ab7d-cf58-4be0-b70d-f1cc38e4a0de",
   "metadata": {},
   "outputs": [],
   "source": [
    "train_df, test_df = train_test_split(df, train_size = 0.8, test_size = 0.2)\n",
    "test_df, validation_df = train_test_split(test_df, train_size=0.5, test_size=0.5)"
   ]
  },
  {
   "cell_type": "code",
   "execution_count": 208,
   "id": "e5defb22-5559-4d13-9bcc-67db066c81bc",
   "metadata": {},
   "outputs": [],
   "source": [
    "X_train = train_df[['car_owned', 'realty_owned', 'children', 'income', 'family_size', 'age', 'years_employed',\n",
    "                    'is_female', 'Higher education', 'Secondary', 'Academic degree',\n",
    "                    'House / apartment', 'With parents', 'Working', 'Pensioner', 'Student',\n",
    "                    'Married', 'Single']]\n",
    "y_train = train_df['75_excellent']\n",
    "\n",
    "X_validation = validation_df[['car_owned', 'realty_owned', 'children', 'income', 'family_size', 'age', 'years_employed',\n",
    "                          'is_female', 'Higher education', 'Secondary', 'Academic degree',\n",
    "                          'House / apartment', 'With parents', 'Working', 'Pensioner', 'Student',\n",
    "                          'Married', 'Single']]\n",
    "y_validation = validation_df['75_excellent']"
   ]
  },
  {
   "cell_type": "code",
   "execution_count": 227,
   "id": "d9c2d793-3cd6-4c1e-87d0-7db24a86cd3b",
   "metadata": {},
   "outputs": [
    {
     "name": "stdout",
     "output_type": "stream",
     "text": [
      "Before SMOTE:\n",
      " 75_excellent\n",
      "0    19314\n",
      "1     9851\n",
      "Name: count, dtype: int64\n",
      "After SMOTE:\n",
      " [19314 19314]\n"
     ]
    }
   ],
   "source": [
    "# initialize SMOTE\n",
    "smote = SMOTE(sampling_strategy='auto', random_state=42)\n",
    "\n",
    "# scale features before SMOTE\n",
    "scaler = StandardScaler()\n",
    "X_train_scaled = scaler.fit_transform(X_train)\n",
    "X_validation_scaled = scaler.transform(X_validation)\n",
    "\n",
    "# apply SMOTE on the scaled training data\n",
    "X_train_resampled, y_train_resampled = smote.fit_resample(X_train_scaled, y_train)\n",
    "\n",
    "# convert back to a DataFrame with the original column names\n",
    "X_train_resampled = pd.DataFrame(X_train_resampled, columns=X_train.columns)\n",
    "\n",
    "# check class balance before and after SMOTE\n",
    "print(\"Before SMOTE:\\n\", y_train.value_counts())\n",
    "print(\"After SMOTE:\\n\", np.bincount(y_train_resampled))"
   ]
  },
  {
   "cell_type": "markdown",
   "id": "44d1f89a-b5dd-4067-9898-624e8ebfc644",
   "metadata": {},
   "source": [
    "## Random Forest Classifier"
   ]
  },
  {
   "cell_type": "code",
   "execution_count": 283,
   "id": "942dda7d-9f5f-4635-bcb6-a541bb6ffd0c",
   "metadata": {},
   "outputs": [
    {
     "name": "stdout",
     "output_type": "stream",
     "text": [
      "Accuracy: 0.6947339550191991\n",
      "Precision: 0.5552075176194206\n",
      "              precision    recall  f1-score   support\n",
      "\n",
      "           0       0.77      0.76      0.77      2392\n",
      "           1       0.56      0.57      0.56      1254\n",
      "\n",
      "    accuracy                           0.69      3646\n",
      "   macro avg       0.66      0.66      0.66      3646\n",
      "weighted avg       0.70      0.69      0.70      3646\n",
      "\n"
     ]
    },
    {
     "name": "stderr",
     "output_type": "stream",
     "text": [
      "/opt/anaconda3/lib/python3.12/site-packages/sklearn/base.py:493: UserWarning: X does not have valid feature names, but RandomForestClassifier was fitted with feature names\n",
      "  warnings.warn(\n"
     ]
    }
   ],
   "source": [
    "# initialize RF model\n",
    "rf = RandomForestClassifier(class_weight=\"balanced\", random_state=42)\n",
    "\n",
    "# train model \n",
    "rf.fit(X_train_resampled, y_train_resampled)\n",
    "\n",
    "# make predictions\n",
    "y_rf_pred = rf.predict(X_validation_scaled)\n",
    "\n",
    "# metrics\n",
    "print(\"Accuracy:\", accuracy_score(y_validation, y_rf_pred))\n",
    "print(\"Precision:\", precision_score(y_validation, y_rf_pred))\n",
    "print(classification_report(y_validation, y_rf_pred))"
   ]
  },
  {
   "cell_type": "code",
   "execution_count": 231,
   "id": "8e26935d-f50e-48ae-bab0-9dbf599df29a",
   "metadata": {},
   "outputs": [
    {
     "data": {
      "image/png": "[encoded data removed]",
      "text/plain": [
       "<Figure size 640x480 with 2 Axes>"
      ]
     },
     "metadata": {},
     "output_type": "display_data"
    }
   ],
   "source": [
    "# Compute and display the confusion matrix\n",
    "cm = confusion_matrix(y_validation, y_rf_pred, normalize='true')\n",
    "disp = ConfusionMatrixDisplay(confusion_matrix=cm, display_labels=['Bad (0)', 'Good (1)'])\n",
    "disp.plot(cmap='Blues', values_format=\".2f\")\n",
    "plt.title(\"Confusion Matrix - Random Forest\")\n",
    "plt.show()"
   ]
  },
  {
   "cell_type": "code",
   "execution_count": 233,
   "id": "da750ea3-ef2b-4137-a898-88e6050ea1c7",
   "metadata": {},
   "outputs": [
    {
     "data": {
      "text/plain": [
       "(0.6947339550191991,\n",
       " 0.5653907496012759,\n",
       " 0.7625418060200669,\n",
       " 0.23745819397993312,\n",
       " 0.43460925039872406,\n",
       " 0.5552075176194206,\n",
       " 0.5653907496012759,\n",
       " 0.6639662778106714)"
      ]
     },
     "execution_count": 233,
     "metadata": {},
     "output_type": "execute_result"
    }
   ],
   "source": [
    "accuracy = accuracy_score(y_validation, y_rf_pred)\n",
    "\n",
    "#compute confusion matrix\n",
    "tn, fp, fn, tp = confusion_matrix(y_validation, y_rf_pred).ravel()\n",
    "tpr = tp / (tp + fn)\n",
    "tnr = tn / (tn + fp)\n",
    "fpr = fp / (fp + tn)\n",
    "fnr = fn / (fn + tp)\n",
    "\n",
    "precision = precision_score(y_validation, y_rf_pred)\n",
    "recall = recall_score(y_validation, y_rf_pred)\n",
    "auroc = roc_auc_score(y_validation, y_rf_pred)\n",
    "\n",
    "accuracy, tpr, tnr, fpr, fnr, precision, recall, auroc"
   ]
  },
  {
   "cell_type": "code",
   "execution_count": 235,
   "id": "1daa1295-b19b-4f01-8835-506ae4fa3a8e",
   "metadata": {},
   "outputs": [],
   "source": [
    "validation_df['rf_pred'] = y_rf_pred"
   ]
  },
  {
   "cell_type": "markdown",
   "id": "606e1e4d-db77-4d63-a1f0-ebf959a8b2b4",
   "metadata": {
    "jp-MarkdownHeadingCollapsed": true
   },
   "source": [
    "### Look into the true negatives"
   ]
  },
  {
   "cell_type": "code",
   "execution_count": 239,
   "id": "69a46019-d57e-451c-a322-788f84baf214",
   "metadata": {},
   "outputs": [],
   "source": [
    "tn = validation_df[(validation_df['rf_pred'] == 0) & (validation_df['75_excellent'] == 0)]"
   ]
  },
  {
   "cell_type": "code",
   "execution_count": 241,
   "id": "edb96d06-ae75-413e-a02b-0bfa68ba67c0",
   "metadata": {},
   "outputs": [
    {
     "data": {
      "text/html": [
       "<div>\n",
       "<style scoped>\n",
       "    .dataframe tbody tr th:only-of-type {\n",
       "        vertical-align: middle;\n",
       "    }\n",
       "\n",
       "    .dataframe tbody tr th {\n",
       "        vertical-align: top;\n",
       "    }\n",
       "\n",
       "    .dataframe thead th {\n",
       "        text-align: right;\n",
       "    }\n",
       "</style>\n",
       "<table border=\"1\" class=\"dataframe\">\n",
       "  <thead>\n",
       "    <tr style=\"text-align: right;\">\n",
       "      <th></th>\n",
       "      <th>id</th>\n",
       "      <th>car_owned</th>\n",
       "      <th>realty_owned</th>\n",
       "      <th>children</th>\n",
       "      <th>income</th>\n",
       "      <th>employment_type</th>\n",
       "      <th>education</th>\n",
       "      <th>marital_status</th>\n",
       "      <th>housing</th>\n",
       "      <th>phone_owned</th>\n",
       "      <th>...</th>\n",
       "      <th>Academic degree</th>\n",
       "      <th>House / apartment</th>\n",
       "      <th>With parents</th>\n",
       "      <th>Working</th>\n",
       "      <th>Pensioner</th>\n",
       "      <th>Student</th>\n",
       "      <th>Married</th>\n",
       "      <th>Single</th>\n",
       "      <th>knn_pred</th>\n",
       "      <th>rf_pred</th>\n",
       "    </tr>\n",
       "  </thead>\n",
       "  <tbody>\n",
       "    <tr>\n",
       "      <th>293332</th>\n",
       "      <td>5054756</td>\n",
       "      <td>0</td>\n",
       "      <td>1</td>\n",
       "      <td>2</td>\n",
       "      <td>202500.0</td>\n",
       "      <td>Working</td>\n",
       "      <td>Secondary</td>\n",
       "      <td>Married</td>\n",
       "      <td>House / apartment</td>\n",
       "      <td>1</td>\n",
       "      <td>...</td>\n",
       "      <td>1.0</td>\n",
       "      <td>1.0</td>\n",
       "      <td>0.0</td>\n",
       "      <td>0.0</td>\n",
       "      <td>0.0</td>\n",
       "      <td>1.0</td>\n",
       "      <td>1.0</td>\n",
       "      <td>0.0</td>\n",
       "      <td>0</td>\n",
       "      <td>0</td>\n",
       "    </tr>\n",
       "    <tr>\n",
       "      <th>13255</th>\n",
       "      <td>5009609</td>\n",
       "      <td>0</td>\n",
       "      <td>0</td>\n",
       "      <td>2</td>\n",
       "      <td>144000.0</td>\n",
       "      <td>Working</td>\n",
       "      <td>Secondary</td>\n",
       "      <td>Married</td>\n",
       "      <td>House / apartment</td>\n",
       "      <td>1</td>\n",
       "      <td>...</td>\n",
       "      <td>1.0</td>\n",
       "      <td>1.0</td>\n",
       "      <td>0.0</td>\n",
       "      <td>0.0</td>\n",
       "      <td>0.0</td>\n",
       "      <td>1.0</td>\n",
       "      <td>1.0</td>\n",
       "      <td>0.0</td>\n",
       "      <td>1</td>\n",
       "      <td>0</td>\n",
       "    </tr>\n",
       "    <tr>\n",
       "      <th>449424</th>\n",
       "      <td>5090447</td>\n",
       "      <td>0</td>\n",
       "      <td>1</td>\n",
       "      <td>0</td>\n",
       "      <td>427500.0</td>\n",
       "      <td>Working</td>\n",
       "      <td>Higher education</td>\n",
       "      <td>Single</td>\n",
       "      <td>House / apartment</td>\n",
       "      <td>1</td>\n",
       "      <td>...</td>\n",
       "      <td>0.0</td>\n",
       "      <td>1.0</td>\n",
       "      <td>0.0</td>\n",
       "      <td>0.0</td>\n",
       "      <td>0.0</td>\n",
       "      <td>1.0</td>\n",
       "      <td>0.0</td>\n",
       "      <td>1.0</td>\n",
       "      <td>1</td>\n",
       "      <td>0</td>\n",
       "    </tr>\n",
       "    <tr>\n",
       "      <th>748037</th>\n",
       "      <td>5149013</td>\n",
       "      <td>0</td>\n",
       "      <td>1</td>\n",
       "      <td>0</td>\n",
       "      <td>225000.0</td>\n",
       "      <td>Working</td>\n",
       "      <td>Secondary</td>\n",
       "      <td>Married</td>\n",
       "      <td>House / apartment</td>\n",
       "      <td>1</td>\n",
       "      <td>...</td>\n",
       "      <td>1.0</td>\n",
       "      <td>1.0</td>\n",
       "      <td>0.0</td>\n",
       "      <td>0.0</td>\n",
       "      <td>0.0</td>\n",
       "      <td>1.0</td>\n",
       "      <td>1.0</td>\n",
       "      <td>0.0</td>\n",
       "      <td>0</td>\n",
       "      <td>0</td>\n",
       "    </tr>\n",
       "    <tr>\n",
       "      <th>473960</th>\n",
       "      <td>5092055</td>\n",
       "      <td>0</td>\n",
       "      <td>0</td>\n",
       "      <td>0</td>\n",
       "      <td>103500.0</td>\n",
       "      <td>Pensioner</td>\n",
       "      <td>Higher education</td>\n",
       "      <td>Single</td>\n",
       "      <td>House / apartment</td>\n",
       "      <td>1</td>\n",
       "      <td>...</td>\n",
       "      <td>0.0</td>\n",
       "      <td>1.0</td>\n",
       "      <td>0.0</td>\n",
       "      <td>1.0</td>\n",
       "      <td>0.0</td>\n",
       "      <td>0.0</td>\n",
       "      <td>0.0</td>\n",
       "      <td>1.0</td>\n",
       "      <td>1</td>\n",
       "      <td>0</td>\n",
       "    </tr>\n",
       "  </tbody>\n",
       "</table>\n",
       "<p>5 rows × 49 columns</p>\n",
       "</div>"
      ],
      "text/plain": [
       "             id  car_owned  realty_owned  children    income employment_type  \\\n",
       "293332  5054756          0             1         2  202500.0         Working   \n",
       "13255   5009609          0             0         2  144000.0         Working   \n",
       "449424  5090447          0             1         0  427500.0         Working   \n",
       "748037  5149013          0             1         0  225000.0         Working   \n",
       "473960  5092055          0             0         0  103500.0       Pensioner   \n",
       "\n",
       "               education marital_status            housing  phone_owned  ...  \\\n",
       "293332         Secondary        Married  House / apartment            1  ...   \n",
       "13255          Secondary        Married  House / apartment            1  ...   \n",
       "449424  Higher education         Single  House / apartment            1  ...   \n",
       "748037         Secondary        Married  House / apartment            1  ...   \n",
       "473960  Higher education         Single  House / apartment            1  ...   \n",
       "\n",
       "        Academic degree  House / apartment  With parents  Working  Pensioner  \\\n",
       "293332              1.0                1.0           0.0      0.0        0.0   \n",
       "13255               1.0                1.0           0.0      0.0        0.0   \n",
       "449424              0.0                1.0           0.0      0.0        0.0   \n",
       "748037              1.0                1.0           0.0      0.0        0.0   \n",
       "473960              0.0                1.0           0.0      1.0        0.0   \n",
       "\n",
       "        Student  Married Single  knn_pred  rf_pred  \n",
       "293332      1.0      1.0    0.0         0        0  \n",
       "13255       1.0      1.0    0.0         1        0  \n",
       "449424      1.0      0.0    1.0         1        0  \n",
       "748037      1.0      1.0    0.0         0        0  \n",
       "473960      0.0      0.0    1.0         1        0  \n",
       "\n",
       "[5 rows x 49 columns]"
      ]
     },
     "execution_count": 241,
     "metadata": {},
     "output_type": "execute_result"
    }
   ],
   "source": [
    "tn.head()"
   ]
  },
  {
   "cell_type": "code",
   "execution_count": 245,
   "id": "5630c023-37a1-4321-bcc1-90a735df51d7",
   "metadata": {},
   "outputs": [
    {
     "data": {
      "text/plain": [
       "car_owned\n",
       "0    0.050455\n",
       "1    0.049339\n",
       "Name: count, dtype: float64"
      ]
     },
     "execution_count": 245,
     "metadata": {},
     "output_type": "execute_result"
    }
   ],
   "source": [
    "tn['car_owned'].value_counts() / df['car_owned'].value_counts()"
   ]
  },
  {
   "cell_type": "code",
   "execution_count": 247,
   "id": "37dbad5c-a58e-4b78-9029-018978a783d9",
   "metadata": {},
   "outputs": [
    {
     "data": {
      "text/plain": [
       "realty_owned\n",
       "1    0.050804\n",
       "0    0.048448\n",
       "Name: count, dtype: float64"
      ]
     },
     "execution_count": 247,
     "metadata": {},
     "output_type": "execute_result"
    }
   ],
   "source": [
    "tn['realty_owned'].value_counts() / df['realty_owned'].value_counts()"
   ]
  },
  {
   "cell_type": "code",
   "execution_count": 249,
   "id": "3de238ba-a9d0-4068-9c14-1e2aa56299d3",
   "metadata": {},
   "outputs": [
    {
     "data": {
      "text/plain": [
       "children\n",
       "0     0.049244\n",
       "1     0.053924\n",
       "2     0.049754\n",
       "3     0.035800\n",
       "4     0.031746\n",
       "5          NaN\n",
       "7          NaN\n",
       "14         NaN\n",
       "19         NaN\n",
       "Name: count, dtype: float64"
      ]
     },
     "execution_count": 249,
     "metadata": {},
     "output_type": "execute_result"
    }
   ],
   "source": [
    "tn['children'].value_counts() / df['children'].value_counts()"
   ]
  },
  {
   "cell_type": "code",
   "execution_count": 251,
   "id": "07c1b9bf-c7ae-433b-bb22-85a228c0394c",
   "metadata": {},
   "outputs": [
    {
     "data": {
      "text/plain": [
       "children\n",
       "0    0.680373\n",
       "1    0.221491\n",
       "2    0.088816\n",
       "3    0.008224\n",
       "4    0.001096\n",
       "Name: count, dtype: float64"
      ]
     },
     "execution_count": 251,
     "metadata": {},
     "output_type": "execute_result"
    }
   ],
   "source": [
    "tn['children'].value_counts() / len(tn)"
   ]
  },
  {
   "cell_type": "code",
   "execution_count": 255,
   "id": "da9fc873-57ca-4a9c-8665-7a7fdcac60f7",
   "metadata": {},
   "outputs": [
    {
     "data": {
      "text/plain": [
       "family_size\n",
       "1.0     0.054816\n",
       "2.0     0.047423\n",
       "3.0     0.053730\n",
       "4.0     0.050225\n",
       "5.0     0.037783\n",
       "6.0     0.034483\n",
       "7.0          NaN\n",
       "9.0          NaN\n",
       "15.0         NaN\n",
       "20.0         NaN\n",
       "Name: count, dtype: float64"
      ]
     },
     "execution_count": 255,
     "metadata": {},
     "output_type": "execute_result"
    }
   ],
   "source": [
    "tn['family_size'].value_counts() / df['family_size'].value_counts()"
   ]
  },
  {
   "cell_type": "code",
   "execution_count": 257,
   "id": "d4aaa010-61c3-4f37-abf6-0df6110df2eb",
   "metadata": {},
   "outputs": [
    {
     "data": {
      "text/plain": [
       "family_size\n",
       "2.0    0.506031\n",
       "1.0    0.209978\n",
       "3.0    0.189145\n",
       "4.0    0.085526\n",
       "5.0    0.008224\n",
       "6.0    0.001096\n",
       "Name: count, dtype: float64"
      ]
     },
     "execution_count": 257,
     "metadata": {},
     "output_type": "execute_result"
    }
   ],
   "source": [
    "tn['family_size'].value_counts() / len(tn)"
   ]
  },
  {
   "cell_type": "code",
   "execution_count": 259,
   "id": "34d2963e-de76-424c-8958-8306d7b9534a",
   "metadata": {},
   "outputs": [
    {
     "data": {
      "text/plain": [
       "education\n",
       "Secondary           0.718750\n",
       "Higher education    0.280702\n",
       "Academic degree     0.000548\n",
       "Name: count, dtype: float64"
      ]
     },
     "execution_count": 259,
     "metadata": {},
     "output_type": "execute_result"
    }
   ],
   "source": [
    "tn['education'].value_counts() / len(tn)"
   ]
  },
  {
   "cell_type": "code",
   "execution_count": 263,
   "id": "ce67ea9f-0ea8-4c3f-a472-8a7f44f5b279",
   "metadata": {},
   "outputs": [
    {
     "data": {
      "text/plain": [
       "education\n",
       "Secondary           0.052125\n",
       "Higher education    0.045414\n",
       "Academic degree     0.031250\n",
       "Name: count, dtype: float64"
      ]
     },
     "execution_count": 263,
     "metadata": {},
     "output_type": "execute_result"
    }
   ],
   "source": [
    "tn['education'].value_counts() / df['education'].value_counts()"
   ]
  },
  {
   "cell_type": "code",
   "execution_count": 265,
   "id": "ba5987bc-93d6-4523-bba6-e71ff4d8957c",
   "metadata": {},
   "outputs": [
    {
     "data": {
      "text/plain": [
       "employment_type\n",
       "Working      0.824561\n",
       "Pensioner    0.174890\n",
       "Student      0.000548\n",
       "Name: count, dtype: float64"
      ]
     },
     "execution_count": 265,
     "metadata": {},
     "output_type": "execute_result"
    }
   ],
   "source": [
    "tn['employment_type'].value_counts() / len(tn)"
   ]
  },
  {
   "cell_type": "code",
   "execution_count": 267,
   "id": "cb027275-0969-4665-949a-b940ad4ecda0",
   "metadata": {},
   "outputs": [
    {
     "data": {
      "text/plain": [
       "employment_type\n",
       "Working      0.049647\n",
       "Pensioner    0.051853\n",
       "Student      0.090909\n",
       "Name: count, dtype: float64"
      ]
     },
     "execution_count": 267,
     "metadata": {},
     "output_type": "execute_result"
    }
   ],
   "source": [
    "tn['employment_type'].value_counts() / df['employment_type'].value_counts() "
   ]
  },
  {
   "cell_type": "code",
   "execution_count": 269,
   "id": "26de3b26-ad09-4ca9-b430-68e0fd62dfec",
   "metadata": {},
   "outputs": [
    {
     "data": {
      "text/plain": [
       "marital_status\n",
       "Married    0.750548\n",
       "Single     0.249452\n",
       "Name: count, dtype: float64"
      ]
     },
     "execution_count": 269,
     "metadata": {},
     "output_type": "execute_result"
    }
   ],
   "source": [
    "tn['marital_status'].value_counts() / len(tn)"
   ]
  },
  {
   "cell_type": "code",
   "execution_count": 271,
   "id": "6b469ac1-93ea-4814-a63c-8f24ebbea723",
   "metadata": {},
   "outputs": [
    {
     "data": {
      "text/plain": [
       "marital_status\n",
       "Married    0.048905\n",
       "Single     0.053757\n",
       "Name: count, dtype: float64"
      ]
     },
     "execution_count": 271,
     "metadata": {},
     "output_type": "execute_result"
    }
   ],
   "source": [
    "tn['marital_status'].value_counts() / df['marital_status'].value_counts() "
   ]
  },
  {
   "cell_type": "code",
   "execution_count": 273,
   "id": "277a4abc-bfef-4024-8701-46cc394d0bd7",
   "metadata": {},
   "outputs": [
    {
     "data": {
      "text/plain": [
       "children\n",
       "0    0.309428\n",
       "1    0.160891\n",
       "2    0.037037\n",
       "3         NaN\n",
       "4         NaN\n",
       "Name: count, dtype: float64"
      ]
     },
     "execution_count": 273,
     "metadata": {},
     "output_type": "execute_result"
    }
   ],
   "source": [
    "single_mask = tn['marital_status'] == 'Single'\n",
    "\n",
    "tn[single_mask]['children'].value_counts() / tn['children'].value_counts()"
   ]
  },
  {
   "cell_type": "markdown",
   "id": "69283f08-79d2-4e05-bf4c-2d2f4ff88079",
   "metadata": {
    "jp-MarkdownHeadingCollapsed": true
   },
   "source": [
    "## KNearestNeighbors"
   ]
  },
  {
   "cell_type": "code",
   "execution_count": 275,
   "id": "f7641778-54d0-48ed-b402-6bf430f980fc",
   "metadata": {},
   "outputs": [
    {
     "name": "stderr",
     "output_type": "stream",
     "text": [
      "/opt/anaconda3/lib/python3.12/site-packages/sklearn/base.py:493: UserWarning: X does not have valid feature names, but KNeighborsClassifier was fitted with feature names\n",
      "  warnings.warn(\n"
     ]
    },
    {
     "name": "stdout",
     "output_type": "stream",
     "text": [
      "KNN Accuracy: 0.62\n",
      "KNN Precision: 0.45\n",
      "KNN AUROC: 0.61\n",
      "              precision    recall  f1-score   support\n",
      "\n",
      "           0       0.74      0.64      0.69      2392\n",
      "           1       0.45      0.57      0.51      1254\n",
      "\n",
      "    accuracy                           0.62      3646\n",
      "   macro avg       0.60      0.61      0.60      3646\n",
      "weighted avg       0.64      0.62      0.62      3646\n",
      "\n"
     ]
    },
    {
     "data": {
      "image/png": "[encoded data removed]",
      "text/plain": [
       "<Figure size 640x480 with 2 Axes>"
      ]
     },
     "metadata": {},
     "output_type": "display_data"
    }
   ],
   "source": [
    "# initialize KNN \n",
    "knn = KNeighborsClassifier(n_neighbors=13)\n",
    "\n",
    "# train model\n",
    "knn.fit(X_train_resampled, y_train_resampled)\n",
    "\n",
    "# make predictions\n",
    "y_knn_pred = knn.predict(X_validation_scaled)\n",
    "\n",
    "# print metrics\n",
    "accuracy = accuracy_score(y_validation, y_knn_pred)\n",
    "precision = precision_score(y_validation, y_knn_pred)\n",
    "recall = recall_score(y_validation, y_knn_pred)\n",
    "auroc = roc_auc_score(y_validation, y_knn_pred)\n",
    "print(f\"KNN Accuracy: {accuracy:.2f}\")\n",
    "print(f\"KNN Precision: {precision:.2f}\")\n",
    "print(f\"KNN AUROC: {auroc:.2f}\")\n",
    "print(classification_report(y_validation, y_knn_pred))\n",
    "\n",
    "# compute and display the confusion matrix\n",
    "cm = confusion_matrix(y_validation, y_knn_pred, normalize='true')\n",
    "disp = ConfusionMatrixDisplay(confusion_matrix=cm, display_labels=['Bad (0)', 'Good (1)'])\n",
    "disp.plot(cmap='Blues', values_format=\".2f\")\n",
    "plt.title(\"Confusion Matrix - KNN Classifier\")\n",
    "plt.show()"
   ]
  },
  {
   "cell_type": "code",
   "execution_count": 221,
   "id": "e24ebb3b-600e-46df-8678-895a0df41cde",
   "metadata": {},
   "outputs": [
    {
     "data": {
      "text/plain": [
       "(0.6160175534832694,\n",
       " 0.5701754385964912,\n",
       " 0.6400501672240803,\n",
       " 0.35994983277591974,\n",
       " 0.4298245614035088,\n",
       " 0.4536802030456853,\n",
       " 0.5701754385964912,\n",
       " 0.6051128029102857)"
      ]
     },
     "execution_count": 221,
     "metadata": {},
     "output_type": "execute_result"
    }
   ],
   "source": [
    "accuracy = accuracy_score(y_validation, y_knn_pred)\n",
    "\n",
    "#compute confusion matrix\n",
    "tn, fp, fn, tp = confusion_matrix(y_validation, y_knn_pred).ravel()\n",
    "tpr = tp / (tp + fn)\n",
    "tnr = tn / (tn + fp)\n",
    "fpr = fp / (fp + tn)\n",
    "fnr = fn / (fn + tp)\n",
    "\n",
    "precision = precision_score(y_validation, y_knn_pred)\n",
    "recall = recall_score(y_validation, y_knn_pred)\n",
    "auroc = roc_auc_score(y_validation, y_knn_pred)\n",
    "\n",
    "accuracy, tpr, tnr, fpr, fnr, precision, recall, auroc"
   ]
  },
  {
   "cell_type": "code",
   "execution_count": 279,
   "id": "37b84df2-82f1-4c6e-a656-86aaf018f214",
   "metadata": {},
   "outputs": [
    {
     "data": {
      "image/png": "[encoded data removed]",
      "text/plain": [
       "<Figure size 800x600 with 1 Axes>"
      ]
     },
     "metadata": {},
     "output_type": "display_data"
    }
   ],
   "source": [
    "from matplotlib.colors import ListedColormap\n",
    "\n",
    "# inverse transform to get unscaled data\n",
    "X_train_unscaled = scaler.inverse_transform(X_train_scaled)\n",
    "X_train_unscaled = pd.DataFrame(X_train_unscaled, columns=X_train.columns)  # Convert back to DataFrame\n",
    "\n",
    "# select two unscaled features for visualization\n",
    "X_selected = X_train_unscaled[['income', 'age']].values  # convert to NumPy array\n",
    "y_selected = y_train_resampled  # labels\n",
    "\n",
    "# limit number of points displayed\n",
    "sample_size = 500\n",
    "if len(X_selected) > sample_size:\n",
    "    indices = np.random.choice(len(X_selected), sample_size, replace=False)\n",
    "    X_selected = X_selected[indices]\n",
    "    y_selected = y_selected.iloc[indices]\n",
    "\n",
    "# train KNN on the selected features\n",
    "knn_vis = KNeighborsClassifier(n_neighbors=12)\n",
    "knn_vis.fit(X_selected, y_selected)\n",
    "\n",
    "# meshgrid for unscaled values\n",
    "x_min, x_max = X_selected[:, 0].min() - 1, X_selected[:, 0].max() + 1\n",
    "y_min, y_max = X_selected[:, 1].min() - 1, X_selected[:, 1].max() + 1\n",
    "xx, yy = np.meshgrid(np.linspace(x_min, x_max, 100), np.linspace(y_min, y_max, 100))\n",
    "\n",
    "# make predictions\n",
    "Z = knn_vis.predict(np.c_[xx.ravel(), yy.ravel()])\n",
    "Z = Z.reshape(xx.shape)\n",
    "\n",
    "# plot decision boundary with unscaled data\n",
    "plt.figure(figsize=(8, 6))\n",
    "cmap_background = ListedColormap([\"#FFAAAA\", \"#AAAAFF\"])\n",
    "cmap_points = ListedColormap([\"#FF0000\", \"#0000FF\"])\n",
    "\n",
    "plt.contourf(xx, yy, Z, alpha=0.3, cmap=cmap_background)  # decision regions\n",
    "plt.scatter(X_selected[:, 0], X_selected[:, 1], c=y_selected, cmap=cmap_points, edgecolor=\"k\", alpha=0.6)  # data points\n",
    "\n",
    "plt.xlabel(\"Income ($)\")\n",
    "plt.ylabel(\"Age (Years)\")\n",
    "plt.title(f\"KNN Decision Boundary\")\n",
    "plt.show()"
   ]
  },
  {
   "cell_type": "code",
   "execution_count": null,
   "id": "9e169fa4-dbba-4c39-8c27-07e60373642d",
   "metadata": {},
   "outputs": [],
   "source": []
  }
 ],
 "metadata": {
  "kernelspec": {
   "display_name": "Python 3 (ipykernel)",
   "language": "python",
   "name": "python3"
  },
  "language_info": {
   "codemirror_mode": {
    "name": "ipython",
    "version": 3
   },
   "file_extension": ".py",
   "mimetype": "text/x-python",
   "name": "python",
   "nbconvert_exporter": "python",
   "pygments_lexer": "ipython3",
   "version": "3.12.7"
  }
 },
 "nbformat": 4,
 "nbformat_minor": 5
}
